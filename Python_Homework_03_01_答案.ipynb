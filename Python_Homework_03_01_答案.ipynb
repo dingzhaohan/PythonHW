{
 "cells": [
  {
   "cell_type": "markdown",
   "metadata": {},
   "source": [
    "# Homework_2019_03_01\n",
    "\n",
    "## 1. 找出一個列表中，只出現了一次的数字，并且保持原來的次序.\n",
    "例如：\n",
    "输入：[2,6,1,3,7,2,7]\n",
    "输出：[6,1,3]\n",
    "\n",
    "\n",
    "## 2. 将以‘:’和‘|’为分隔符的字符串处理成 python 字典\n",
    "例如：\n",
    "输入：\"k:1|k1:2|k2:3|k3:4\"\n",
    "输出：{‘k‘:‘1‘, ‘k1‘:‘2‘, ‘k2‘:‘3‘,‘k3‘:‘4‘ }\n",
    "\n",
    "\n",
    "## 3. 将一个正整数分解质因数\n",
    "例如：\n",
    "输入：210\n",
    "输出：2\\*3\\*5\\*7\n",
    "\n",
    "\n",
    "## 4. 使用filter函数，找到[1,100]之间的所有素数\n",
    "\n",
    "\n",
    "## 5. 英文词频统计\n",
    "输入为以下一段英文，大小写不区分，标点符号不计。\n",
    "\"There is no doubt that happiness is the most precious thing in the world. Without it, life will be empty and meaningless. If you wish to know how to get happiness, you must pay attention to the following two points.\"\n",
    "\n",
    "\n",
    "## 6. 牛顿迭代法\n",
    "以方程：x^3-0.2\\*x^2-0.2\\*x-1.2=0为例，编写程序求该方程的根,精度为0.00000001\n"
   ]
  },
  {
   "cell_type": "markdown",
   "metadata": {},
   "source": [
    "**1. 找出一個列表中，只出現了一次的数字，并且保持原來的次序.**\n",
    "\n",
    "例如：\n",
    "输入：[2,6,1,3,7,2,7]\n",
    "输出：[6,1,3]"
   ]
  },
  {
   "cell_type": "code",
   "execution_count": 5,
   "metadata": {},
   "outputs": [
    {
     "name": "stdout",
     "output_type": "stream",
     "text": [
      "[6, 1, 3]\n"
     ]
    }
   ],
   "source": [
    "def singleNum(nums):\n",
    "    result = []\n",
    "    for temp in nums:\n",
    "        if nums.count(temp)==1:\n",
    "            result.append(temp)\n",
    "    return result\n",
    "\n",
    "print(singleNum([2,6,1,3,7,2,7]))\n",
    "    "
   ]
  },
  {
   "cell_type": "markdown",
   "metadata": {},
   "source": [
    "**2. 将以‘:’和‘|’为分隔符的字符串处理成 python 字典**\n",
    "\n",
    "例如： 输入：\"k:1|k1:2|k2:3|k3:4\" 输出：{‘k‘:‘1‘, ‘k1‘:‘2‘, ‘k2‘:‘3‘,‘k3‘:‘4‘ }"
   ]
  },
  {
   "cell_type": "code",
   "execution_count": 11,
   "metadata": {},
   "outputs": [
    {
     "name": "stdout",
     "output_type": "stream",
     "text": [
      "{'k3': 4, 'k1': 2, 'k': 1, 'k2': 3}\n"
     ]
    }
   ],
   "source": [
    "def str2dict(s):\n",
    "    d = {}\n",
    "    items = s.split('|')\n",
    "    for x in items:\n",
    "        k, v = x.split(':')\n",
    "        d[k] = int(v)\n",
    "    return d\n",
    "\n",
    "print(str2dict('k:1|k1:2|k2:3|k3:4'))"
   ]
  },
  {
   "cell_type": "code",
   "execution_count": 16,
   "metadata": {},
   "outputs": [
    {
     "name": "stdout",
     "output_type": "stream",
     "text": [
      "{'k3': 4, 'k1': 2, 'k': 1, 'k2': 3}\n"
     ]
    }
   ],
   "source": [
    "s = 'k:1|k1:2|k2:3|k3:4'\n",
    "dd = {k: int(v) for k, v in map(lambda x: x.split(':'), s.split('|'))}\n",
    "print(dd)"
   ]
  },
  {
   "cell_type": "markdown",
   "metadata": {},
   "source": [
    "**3. 将一个正整数分解质因数**\n",
    "\n",
    "例如： 输入：210 输出：2\\*3\\*5\\*7"
   ]
  },
  {
   "cell_type": "code",
   "execution_count": 20,
   "metadata": {},
   "outputs": [
    {
     "name": "stdout",
     "output_type": "stream",
     "text": [
      "2*3*5*7\n"
     ]
    }
   ],
   "source": [
    "def divPrime(num):\n",
    "    lt = []\n",
    "    while num != 1:\n",
    "        for i in range(2, int(num+1)):\n",
    "            if num % i == 0:  # i是num的一个质因数\n",
    "                lt.append(i)\n",
    "                num = num / i # 将num除以i，剩下的部分继续分解\n",
    "                break\n",
    "    return lt\n",
    "\n",
    "lt = divPrime(210)\n",
    "for i in range(0, len(lt)-1):\n",
    "    print(lt[i], end='*')\n",
    "print(lt[-1])"
   ]
  },
  {
   "cell_type": "markdown",
   "metadata": {},
   "source": [
    "**4. 使用filter函数，找到[1,100]之间的所有素数**\n"
   ]
  },
  {
   "cell_type": "code",
   "execution_count": 39,
   "metadata": {
    "scrolled": true
   },
   "outputs": [
    {
     "name": "stdout",
     "output_type": "stream",
     "text": [
      "[2, 3, 5, 7, 11, 13, 17, 19, 23, 29, 31, 37, 41, 43, 47, 53, 59, 61, 67, 71, 73, 79, 83, 89, 97]\n"
     ]
    }
   ],
   "source": [
    "def isPrime(num):\n",
    "    for i in range(2, num):\n",
    "        if num % i == 0:\n",
    "            return False\n",
    "    return True\n",
    "\n",
    "result = filter(isPrime, range(2, 101))\n",
    "print(list(result))"
   ]
  },
  {
   "cell_type": "markdown",
   "metadata": {},
   "source": [
    "**5. 英文词频统计**\n",
    "\n",
    "输入为以下一段英文，大小写不区分，标点符号不计。 \"There is no doubt that happiness is the most precious thing in the world. Without it, life will be empty and meaningless. If you wish to know how to get happiness, you must pay attention to the following two points.\""
   ]
  },
  {
   "cell_type": "code",
   "execution_count": 47,
   "metadata": {},
   "outputs": [
    {
     "data": {
      "text/plain": [
       "{'and': 1,\n",
       " 'attention': 1,\n",
       " 'be': 1,\n",
       " 'doubt': 1,\n",
       " 'empty': 1,\n",
       " 'following': 1,\n",
       " 'get': 1,\n",
       " 'happiness': 2,\n",
       " 'how': 1,\n",
       " 'if': 1,\n",
       " 'in': 1,\n",
       " 'is': 2,\n",
       " 'it': 1,\n",
       " 'know': 1,\n",
       " 'life': 1,\n",
       " 'meaningless.': 1,\n",
       " 'most': 1,\n",
       " 'must': 1,\n",
       " 'no': 1,\n",
       " 'pay': 1,\n",
       " 'points.': 1,\n",
       " 'precious': 1,\n",
       " 'that': 1,\n",
       " 'the': 3,\n",
       " 'there': 1,\n",
       " 'thing': 1,\n",
       " 'to': 3,\n",
       " 'two': 1,\n",
       " 'will': 1,\n",
       " 'wish': 1,\n",
       " 'without': 1,\n",
       " 'world.': 1,\n",
       " 'you': 2}"
      ]
     },
     "execution_count": 47,
     "metadata": {},
     "output_type": "execute_result"
    }
   ],
   "source": [
    "import re\n",
    "\n",
    "str = 'There is no doubt that happiness is the most precious thing in the world. Without it, life will be empty and meaningless. If you wish to know how to get happiness, you must pay attention to the following two points.'\n",
    "\n",
    "def countWord(str):\n",
    "    words =re.split(r'[;,\\s]+',str.strip().lower())\n",
    "    words_index=set(words)\n",
    "    counts_dict={index:words.count(index) for index in words_index}\n",
    "    return counts_dict\n",
    "\n",
    "countWord(str)"
   ]
  },
  {
   "cell_type": "markdown",
   "metadata": {},
   "source": [
    "**6. 牛顿迭代法**\n",
    "\n",
    "以方程：x^3-0.2\\*x^2-0.2\\*x-1.2=0为例，编写程序求该方程的根，精度为0.00000001"
   ]
  },
  {
   "cell_type": "code",
   "execution_count": 48,
   "metadata": {},
   "outputs": [
    {
     "data": {
      "text/plain": [
       "1.2000000000819264"
      ]
     },
     "execution_count": 48,
     "metadata": {},
     "output_type": "execute_result"
    }
   ],
   "source": [
    "def f(x):\n",
    "    return x**3-0.2*x**2-0.2*x-1.2\n",
    "\n",
    "def df(x):\n",
    "    return 3*x**2-0.4*x-0.2\n",
    "\n",
    "def newton_iteration(x0):\n",
    "    while abs(f(x0))>0.00000001:\n",
    "        x0 = x0 - f(x0)/df(x0)\n",
    "    return x0\n",
    "newton_iteration(1.5)"
   ]
  },
  {
   "cell_type": "code",
   "execution_count": null,
   "metadata": {},
   "outputs": [],
   "source": []
  }
 ],
 "metadata": {
  "kernelspec": {
   "display_name": "Python 3",
   "language": "python",
   "name": "python3"
  },
  "language_info": {
   "codemirror_mode": {
    "name": "ipython",
    "version": 3
   },
   "file_extension": ".py",
   "mimetype": "text/x-python",
   "name": "python",
   "nbconvert_exporter": "python",
   "pygments_lexer": "ipython3",
   "version": "3.5.6"
  }
 },
 "nbformat": 4,
 "nbformat_minor": 2
}
