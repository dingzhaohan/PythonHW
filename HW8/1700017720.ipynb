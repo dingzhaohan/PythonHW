{
 "cells": [
  {
   "cell_type": "markdown",
   "metadata": {},
   "source": [
    "# HMM的简单应用：中文分词\n",
    "\n",
    "### 作业要求：\n",
    "1. 阅读hmm.py的实现，用最大似然法估计HMM参数（见Q1）\n",
    "2. （选做）优化基本模型（见Q2）\n",
    "\n",
    "##### 提交时，单独提交本ipynb文件即可。若对hmm.py做了修改，请打包提交。\n"
   ]
  },
  {
   "cell_type": "code",
   "execution_count": 40,
   "metadata": {},
   "outputs": [],
   "source": [
    "# -*-coding:utf-8\n",
    "# By tostq <tostq216@163.com>\n",
    "# 博客: blog.csdn.net/tostq\n",
    "import numpy as np\n",
    "import hmm\n",
    "from sklearn.model_selection import train_test_split\n",
    "\n",
    "\n",
    "# 获得某词的分词结果\n",
    "# 如：（我：S）、（你好：BE）、（恭喜发财：BMME）\n",
    "# 0 1 2 3 分别表示 B M E S\n",
    "def getList(input_str):\n",
    "    outpout_str = []\n",
    "    if len(input_str) == 1:\n",
    "        outpout_str.append(3)\n",
    "    elif len(input_str) == 2:\n",
    "        outpout_str = [0, 2]\n",
    "    else:\n",
    "        M_num = len(input_str) - 2\n",
    "        M_list = [1] * M_num\n",
    "        outpout_str.append(0)\n",
    "        outpout_str.extend(M_list)\n",
    "        outpout_str.append(2)\n",
    "    return outpout_str\n",
    "\n",
    "\n",
    "# 预处理词典：RenMinData.txt_utf8\n",
    "def precess_data():\n",
    "    ifp = open(\"RenMinData.txt\", 'r').readlines()\n",
    "    line_num = 0\n",
    "    word_dic = {}\n",
    "    word_ind = 0\n",
    "    line_seq = []\n",
    "    state_seq = []\n",
    "    # 保存句子的字序列及每个字的状态序列，并完成字典统计\n",
    "    for line in ifp:\n",
    "        line_num += 1\n",
    "        #print(line)\n",
    "        line = line.strip()\n",
    "        #print(line)\n",
    "        word_list = []\n",
    "        for i in range(len(line)):\n",
    "            if line[i] == \" \": continue\n",
    "            word_list.append(line[i])\n",
    "            # 建立单词表\n",
    "            #print(word_list)\n",
    "            if not (line[i]) in word_dic.keys():\n",
    "                word_dic[line[i]] = word_ind\n",
    "                word_ind += 1\n",
    "        line_seq.append(word_list)\n",
    "        \n",
    "        lineArr = line.split(\" \")\n",
    "        #print(lineArr)\n",
    "       \n",
    "        line_state = []\n",
    "        for item in lineArr:\n",
    "            line_state += getList(item)\n",
    "            #print(item)\n",
    "            #print(line_state)\n",
    "        state_seq.append(np.array(line_state))\n",
    "\n",
    "    lines = []\n",
    "    for i in range(line_num):\n",
    "        lines.append(np.array([[word_dic[x]] for x in line_seq[i]]))\n",
    "\n",
    "    return lines, state_seq, word_dic"
   ]
  },
  {
   "cell_type": "code",
   "execution_count": 41,
   "metadata": {
    "scrolled": true
   },
   "outputs": [],
   "source": [
    "X, Z, word_dic = precess_data() # 预处理数据集，得到观测值序列集合X，状态序列集合Z，词典word_dic\n",
    "X_train, X_test, Z_train, Z_test = train_test_split(X, Z, test_size=0.1, random_state=100) # 划分出一部分测试集"
   ]
  },
  {
   "cell_type": "code",
   "execution_count": 74,
   "metadata": {},
   "outputs": [
    {
     "name": "stdout",
     "output_type": "stream",
     "text": [
      "0\n"
     ]
    }
   ],
   "source": [
    "print(Z[3][1])"
   ]
  },
  {
   "cell_type": "markdown",
   "metadata": {},
   "source": [
    "# Q1. 请你使用最大似然估计法求解HMM的参数"
   ]
  },
  {
   "cell_type": "code",
   "execution_count": 83,
   "metadata": {},
   "outputs": [],
   "source": [
    "# 用最大似然估计求解HMM的参数\n",
    "def MLE(X, Z, num_words):\n",
    "    # 你需要重写代码，正确地估计这三个矩阵的参数\n",
    "    start_prob = np.zeros(4)\n",
    "    transmat_prob = np.zeros((4,4))\n",
    "    emission_prob = np.zeros((4, len(word_dic)))\n",
    "    num0 = 0\n",
    "    num3 = 0\n",
    "    for i in Z:\n",
    "        if i[0] == 0:\n",
    "            num0 += 1\n",
    "        else:\n",
    "            num3 += 1\n",
    "    start_prob[0] = num0 / len(Z)\n",
    "    start_prob[1] = 0\n",
    "    start_prob[2] = 0\n",
    "    start_prob[3] = num3 / len(Z)\n",
    "    #计算转移矩阵\n",
    "    for i in range(4):\n",
    "        for j in range(4):\n",
    "            for k in Z:\n",
    "                if len(k) == 1:\n",
    "                    continue\n",
    "                for l in range(len(k) - 1):\n",
    "                    if k[l] == i and k[l+1] == j:\n",
    "                        transmat_prob[i][j] += 1\n",
    "    \n",
    "                        \n",
    "    for i in range(len(X)):\n",
    "        for j in range(len(X[i])):\n",
    "            emission_prob[Z[i][j]][X[i][j]] += 1\n",
    "   \n",
    "            \n",
    "    # 对概率矩阵归一化\n",
    "    start_prob = start_prob / np.sum(start_prob)\n",
    "    transmat_prob = transmat_prob / np.repeat(np.sum(transmat_prob, axis=1), 4).reshape((4, 4))\n",
    "    emission_prob = emission_prob / np.repeat(np.sum(emission_prob, axis=1), num_words).reshape((4, num_words))\n",
    "    \n",
    "    return start_prob, transmat_prob, emission_prob"
   ]
  },
  {
   "cell_type": "code",
   "execution_count": 84,
   "metadata": {},
   "outputs": [
    {
     "name": "stdout",
     "output_type": "stream",
     "text": [
      "startprob_prior:  [0.58244426 0.         0.         0.41755574]\n",
      "transmit:  [[0.         0.1168293  0.8831707  0.        ]\n",
      " [0.         0.27707947 0.72292053 0.        ]\n",
      " [0.46893362 0.         0.         0.53106638]\n",
      " [0.43019261 0.         0.         0.56980739]]\n",
      "(4, 3728)\n",
      "3728\n"
     ]
    }
   ],
   "source": [
    "start_prob, transmat_prob, emission_prob = MLE(X_train, Z_train, len(word_dic)) # 用最大似然估计求解参数\n",
    "wordseg_hmm = hmm.DiscreteHMM(start_prob, transmat_prob, emission_prob, 4, len(word_dic))\n",
    "\n",
    "print(\"startprob_prior: \", wordseg_hmm.start_prob)\n",
    "print(\"transmit: \", wordseg_hmm.transmat_prob)\n"
   ]
  },
  {
   "cell_type": "markdown",
   "metadata": {},
   "source": [
    "# Q2（加分项）. 请你尝试优化这个基本模型，可以从时间上优化，也可以从最后的F1指标上优化。\n",
    "\n",
    "## 下面是测试部分\n",
    "\n",
    "如果正确地估计出了HMM的参数，得到的结果应该接近：\n",
    "- Recall: 0.767\n",
    "- Precise: 0.782\n",
    "- F1 score: 0.774"
   ]
  },
  {
   "cell_type": "code",
   "execution_count": 85,
   "metadata": {},
   "outputs": [
    {
     "name": "stderr",
     "output_type": "stream",
     "text": [
      "/Users/zhaohan/Desktop/python程序设计与数据挖掘导论/HW8-release/hmm.py:127: RuntimeWarning: invalid value encountered in true_divide\n",
      "  alpha[0] = alpha[0] / c[0]\n",
      "/Users/zhaohan/Desktop/python程序设计与数据挖掘导论/HW8-release/hmm.py:101: RuntimeWarning: divide by zero encountered in double_scalars\n",
      "  max_pro_state[0] = self.emit_prob(X[0]) * self.start_prob * (1 / c[0])  # 初始概率\n",
      "/Users/zhaohan/Desktop/python程序设计与数据挖掘导论/HW8-release/hmm.py:101: RuntimeWarning: invalid value encountered in multiply\n",
      "  max_pro_state[0] = self.emit_prob(X[0]) * self.start_prob * (1 / c[0])  # 初始概率\n",
      "/Users/zhaohan/Desktop/python程序设计与数据挖掘导论/HW8-release/hmm.py:108: RuntimeWarning: divide by zero encountered in double_scalars\n",
      "  max_pro_state[i][k] = np.max(prob_state) * (1 / c[i])\n",
      "/Users/zhaohan/Desktop/python程序设计与数据挖掘导论/HW8-release/hmm.py:108: RuntimeWarning: invalid value encountered in double_scalars\n",
      "  max_pro_state[i][k] = np.max(prob_state) * (1 / c[i])\n"
     ]
    },
    {
     "name": "stdout",
     "output_type": "stream",
     "text": [
      "Recall:  0.767\tPrecise:  0.782\tF1 score:  0.775\n"
     ]
    }
   ],
   "source": [
    "# 测试\n",
    "correct_words = 0 # 正确分出的词\n",
    "out_num_words = 0 # 解码得到的词数\n",
    "ans_num_words = 0 # 正确答案中的词数\n",
    "\n",
    "for i in range(len(X_test)):\n",
    "    z = wordseg_hmm.decode(X_test[i])\n",
    "    y = (z == Z_test[i])\n",
    "    last_end = -1\n",
    "    for j in range(len(X_test[i])):\n",
    "        if z[j] >= 2:   # 2 和 3 表示一个词的结尾\n",
    "            out_num_words += 1\n",
    "            correct_words += min(y[last_end + 1:j + 1])  # 这个词的每个位置的状态和正确答案全部相同\n",
    "            last_end = j\n",
    "        if Z_test[i][j] >= 2:\n",
    "            ans_num_words += 1\n",
    "\n",
    "recall = float(correct_words) / float(ans_num_words)   # 召回率 = 正确分出的词 / 正确答案中的次数\n",
    "precise = float(correct_words) / float(out_num_words)  # 准确率 = 正确分出的词 / 解码得到的词数\n",
    "F1_score = 2 * recall * precise / (recall + precise)\n",
    "\n",
    "print(\"Recall: %6.3f\\tPrecise: %6.3f\\tF1 score: %6.3f\" % (recall, precise, F1_score))"
   ]
  },
  {
   "cell_type": "code",
   "execution_count": null,
   "metadata": {},
   "outputs": [],
   "source": []
  }
 ],
 "metadata": {
  "kernelspec": {
   "display_name": "Python 3",
   "language": "python",
   "name": "python3"
  },
  "language_info": {
   "codemirror_mode": {
    "name": "ipython",
    "version": 3
   },
   "file_extension": ".py",
   "mimetype": "text/x-python",
   "name": "python",
   "nbconvert_exporter": "python",
   "pygments_lexer": "ipython3",
   "version": "3.7.2"
  }
 },
 "nbformat": 4,
 "nbformat_minor": 2
}
