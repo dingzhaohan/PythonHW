{
 "cells": [
  {
   "cell_type": "markdown",
   "metadata": {},
   "source": [
    "## 1. 阅读程序，按要求完成程序填空\n",
    "\n",
    "**Instruction: 运行一下来检查结果。安要求完成代码实现 **\n"
   ]
  },
  {
   "cell_type": "code",
   "execution_count": 31,
   "metadata": {},
   "outputs": [
    {
     "name": "stdout",
     "output_type": "stream",
     "text": [
      "输入空格分隔的两个数：1 2\n",
      "3\n",
      "Test passed!\n"
     ]
    }
   ],
   "source": [
    "# Task 1.0\n",
    "\n",
    "a, b = map(int, input('输入空格分隔的两个数：').split())\n",
    "print(a+b)\n",
    "\n",
    "# 提示：同时赋值两个变量的这个语法叫 Tuple Unpacking\n",
    "# 请完成代码，实现输入任意多个空格分隔的浮点数，并打印输出这些浮点数的和\n",
    "\n",
    "\n",
    "def do_sum(inp):\n",
    "    # 补充完成函数 Write here\n",
    "    alist = map(float, inp.split())\n",
    "    sum = 0\n",
    "    for i in alist:\n",
    "        sum += i\n",
    "    return sum\n",
    "# 下面的语句用来检验 do_sum 的正确性\n",
    "assert do_sum('1 2')==3\n",
    "assert do_sum('1 2 3 4.6 5 -1.1')==14.5\n",
    "assert do_sum('-123')==-123\n",
    "print('Test passed!')"
   ]
  },
  {
   "cell_type": "markdown",
   "metadata": {},
   "source": [
    "**Task 2.1: 二分查找**\n",
    "\n",
    "在一个升序的数组 x 中查找指定的数 a，使得 x 的前 i 个数都小于 a，其他数都大于等于 a。\n",
    "\n",
    "请将代码中的 `...` 补全。"
   ]
  },
  {
   "cell_type": "code",
   "execution_count": 42,
   "metadata": {},
   "outputs": [
    {
     "name": "stdout",
     "output_type": "stream",
     "text": [
      "Test passed!\n"
     ]
    }
   ],
   "source": [
    "def find(x, a): # 返回 i\n",
    "    L, R = 0, len(x)\n",
    "    while R - L >= 1:\n",
    "        mid = int((R + L - 1) // 2) # 注意 Python 的 `/` 除法和 `//` 除法的区别\n",
    "        if x[mid] >= a:\n",
    "            R = mid\n",
    "        else:\n",
    "            L = mid + 1\n",
    "    return L\n",
    "\n",
    "assert find([0,1,2,2,2,5,6], 0)==0\n",
    "assert find([0,1,2,2,2,5,6], 1)==1\n",
    "assert find([0,1,2,2,2,5,6], 2)==2\n",
    "assert find([0,1,2,2,2,5,6], 3)==5\n",
    "assert find([0,1,2,2,2,5,6], 4)==5\n",
    "assert find([0,1,2,2,2,5,6], 5)==5\n",
    "assert find([0,1,2,2,2,5,6], 6)==6\n",
    "assert find([0,1,2,2,2,5,6], 7)==7\n",
    "print('Test passed!')"
   ]
  },
  {
   "cell_type": "markdown",
   "metadata": {},
   "source": [
    "##  2  Homework_代码实现\n",
    "\n",
    "\n",
    "**1.设计一个函数，统计一个字符串中出现频率最高的字符及其出现次数**\n",
    "\n",
    "例如：\n",
    "输入：‘asdasddddd’\n",
    "输出： d, 6\n",
    "\n",
    "**2. 判断一个列表是否是等差数列，如果是，则返回这个数列的下一项，如果不是则返回-1.**\n",
    "\n",
    "例如：\n",
    "输入：[1,2,3,4,5]\n",
    "输出：6\n",
    "输入：[2,3,5,6,7]\n",
    "输出：-1\n",
    "\n",
    "**3. 使用filter函数剔除列表中的非回文数**\n",
    "\n",
    "例如：\n",
    "输入：[12321,12343,213,242,433]\n",
    "输出：[12321,242]\n",
    "\n",
    "**4. 实现数字列表的归并排序**\n",
    "\n",
    "例如：\n",
    "输入：[12,3,4,6,7,1,8,5]\n",
    "输出：[1,3,4,5,6,7,8,12]\n",
    "\n",
    "**5. 将一个字典扁平化**\n",
    "\n",
    "例如：\n",
    "输入：src = {'a':{'b':1,'c':2},'d':{'e':3,'f':{'g':4}}}\n",
    "输出：dest = {'a.b':1,'a.c':2,'d.e':3,'d.f.g':4}\n",
    "\n",
    "**6. 凯撒密码**\n",
    "\n",
    "原文：A B C D E F G H I J K L M N O P Q R S T U V W X Y Z\n",
    "\n",
    "密文：D E F G H I J K L M N O P Q R S T U V W X Y Z A B C\n",
    "\n",
    "对于原文字符P，其密文字符C满足如下条件：C=(P+3) mod 26\n",
    "\n",
    "上述是凯撒密码的加密方法，解密方法反之，即：P=(C-3) mod 26\n",
    "\n",
    "请编写一个程序，对输入字符串进行凯撒密码加密，直接输出结果，其中空格不用进行加密处理。使用input()获得输入。大小写不区分.\n",
    "\n",
    "例如：\n",
    "输入：There is no doubt that happiness is the most precious thing in the world."
   ]
  },
  {
   "cell_type": "code",
   "execution_count": 55,
   "metadata": {},
   "outputs": [
    {
     "name": "stdout",
     "output_type": "stream",
     "text": [
      "aaabcdssfff\n",
      "{'a': 3, 'f': 3}\n"
     ]
    }
   ],
   "source": [
    "#统计出现频率最高的字母及次数\n",
    "s = input()\n",
    "maxnumber = 0\n",
    "c = dict()\n",
    "for i in s:\n",
    "    if maxnumber <= s.count(i):\n",
    "        maxnumber = s.count(i)\n",
    "        c[i] = maxnumber\n",
    "    \n",
    "print(c)"
   ]
  },
  {
   "cell_type": "code",
   "execution_count": 25,
   "metadata": {},
   "outputs": [
    {
     "name": "stdout",
     "output_type": "stream",
     "text": [
      "2 4 6 8 10\n",
      "12\n"
     ]
    }
   ],
   "source": [
    "#等差数列\n",
    "alist = list(map(int, input().split()))\n",
    "\n",
    "flag = True\n",
    "d = alist[1] - alist[0]\n",
    "for i in range(len(alist)-1):\n",
    "    if alist[i+1] - alist[i] != d:\n",
    "        flag = False\n",
    "        \n",
    "if flag:\n",
    "    print(alist[len(alist)-1]+d)\n",
    "else:\n",
    "    print(-1)"
   ]
  },
  {
   "cell_type": "code",
   "execution_count": 45,
   "metadata": {},
   "outputs": [
    {
     "name": "stdout",
     "output_type": "stream",
     "text": [
      "adda ada abc\n",
      "['adda', 'ada']\n"
     ]
    }
   ],
   "source": [
    "#回文串\n",
    "alist = list(map(str, input().split()))\n",
    "\n",
    "def func(s):\n",
    "    l = len(s)\n",
    "    for i in range(int(l / 2)):\n",
    "        if s[i] != s[len(s)-1-i]:\n",
    "            return False\n",
    "    return True\n",
    "    \n",
    "blist = list(filter(func, alist))\n",
    "print(blist)"
   ]
  },
  {
   "cell_type": "code",
   "execution_count": 43,
   "metadata": {},
   "outputs": [
    {
     "name": "stdout",
     "output_type": "stream",
     "text": [
      "12 3 4 6 7 1 8 5\n"
     ]
    },
    {
     "data": {
      "text/plain": [
       "[1, 3, 4, 5, 6, 7, 8, 12]"
      ]
     },
     "execution_count": 43,
     "metadata": {},
     "output_type": "execute_result"
    }
   ],
   "source": [
    "#归并排序\n",
    "alist = list(map(int, input().split()))\n",
    "def func(alist):\n",
    "    if len(alist) == 1:\n",
    "        return alist\n",
    "    L = []\n",
    "    R = []\n",
    "\n",
    "    for i in range(0, len(alist)-1,2):\n",
    "        L.append(alist[i])\n",
    "        R.append(alist[i+1])\n",
    "    if len(alist) % 2 == 1:\n",
    "        L.append(alist[len(alist)-1])\n",
    "    \n",
    "    return merge(func(L), func(R))\n",
    "    \n",
    "def merge(L, R):\n",
    "    out = []       \n",
    "    while len(L) != 0 and len(R) != 0:\n",
    "        if L[0] < R[0]:\n",
    "            out.append(L.pop(0))\n",
    "        else:\n",
    "            out.append(R.pop(0))\n",
    "    if len(L):\n",
    "        return out + L\n",
    "    else:\n",
    "        return out + R\n",
    "\n",
    "func(alist)"
   ]
  },
  {
   "cell_type": "code",
   "execution_count": 46,
   "metadata": {},
   "outputs": [
    {
     "name": "stdout",
     "output_type": "stream",
     "text": [
      "{'a.b': 1, 'a.c': 2, 'd.e': 3, 'd.f.g': 4}\n"
     ]
    }
   ],
   "source": [
    "#字典扁平化\n",
    "src = {'a':{'b':1,'c':2},'d':{'e':3,'f':{'g':4}}}\n",
    "def flatdic(dic, target=None, prefix=''):\n",
    "    if target is None:\n",
    "        target = {}\n",
    "    \n",
    "    for k, v in dic.items():\n",
    "        if isinstance(v, dict):\n",
    "            flatdic(v, target, prefix + k + '.')\n",
    "        else:\n",
    "            target[prefix + k] = v\n",
    "    \n",
    "    return target\n",
    "\n",
    "print(flatdic(src))"
   ]
  },
  {
   "cell_type": "code",
   "execution_count": 96,
   "metadata": {},
   "outputs": [
    {
     "name": "stdout",
     "output_type": "stream",
     "text": [
      "abc, def? XYA\n",
      "DEF, GHI? ABD "
     ]
    }
   ],
   "source": [
    "charlist = list(map(chr, range(ord('A'), ord('A') + 26))) \n",
    "\n",
    "def func(s):\n",
    "    out = ''\n",
    "    for char in s:\n",
    "        if ord(char.upper()) in range(65, 91):\n",
    "            pos = charlist.index(char.upper())\n",
    "            pos += 3\n",
    "            pos %= 26\n",
    "            out += charlist[pos]\n",
    "        else:\n",
    "            out += char\n",
    "    return out\n",
    "\n",
    "s = list(map(str, input().split()))\n",
    "\n",
    "for i in s:\n",
    "    print(func(i), end=' ')    "
   ]
  }
 ],
 "metadata": {
  "kernelspec": {
   "display_name": "Python 3",
   "language": "python",
   "name": "python3"
  },
  "language_info": {
   "codemirror_mode": {
    "name": "ipython",
    "version": 3
   },
   "file_extension": ".py",
   "mimetype": "text/x-python",
   "name": "python",
   "nbconvert_exporter": "python",
   "pygments_lexer": "ipython3",
   "version": "3.7.2"
  }
 },
 "nbformat": 4,
 "nbformat_minor": 2
}
