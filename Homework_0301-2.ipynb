{
 "cells": [
  {
   "cell_type": "markdown",
   "metadata": {},
   "source": [
    "## 1. 阅读程序，按要求完成程序填空\n",
    "\n",
    "**Instruction: 运行一下来检查结果。安要求完成代码实现 **\n"
   ]
  },
  {
   "cell_type": "code",
   "execution_count": null,
   "metadata": {},
   "outputs": [],
   "source": [
    "# Task 1.0\n",
    "\n",
    "a, b = map(int, input('输入空格分隔的两个数：').split())\n",
    "print(a+b)\n",
    "\n",
    "# 提示：同时赋值两个变量的这个语法叫 Tuple Unpacking\n",
    "# 请完成代码，实现输入任意多个空格分隔的浮点数，并打印输出这些浮点数的和\n",
    "\n",
    "\n",
    "def do_sum(inp):\n",
    "    # 补充完成函数 Write here\n",
    "    l = list()\n",
    "    a.append(map(float, input().split()))\n",
    "# 下面的语句用来检验 do_sum 的正确性\n",
    "assert do_sum('1 2')==3\n",
    "assert do_sum('1 2 3 4.6 5 -1.1')==14.5\n",
    "assert do_sum('-123')==-123\n",
    "print('Test passed!')"
   ]
  },
  {
   "cell_type": "markdown",
   "metadata": {},
   "source": [
    "**Task 2.1: 二分查找**\n",
    "\n",
    "在一个升序的数组 x 中查找指定的数 a，使得 x 的前 i 个数都小于 a，其他数都大于等于 a。\n",
    "\n",
    "请将代码中的 `...` 补全。"
   ]
  },
  {
   "cell_type": "code",
   "execution_count": 1,
   "metadata": {},
   "outputs": [
    {
     "ename": "TypeError",
     "evalue": "list indices must be integers or slices, not ellipsis",
     "output_type": "error",
     "traceback": [
      "\u001b[1;31m---------------------------------------------------------------------------\u001b[0m",
      "\u001b[1;31mTypeError\u001b[0m                                 Traceback (most recent call last)",
      "\u001b[1;32m<ipython-input-1-839ff54d41ca>\u001b[0m in \u001b[0;36m<module>\u001b[1;34m()\u001b[0m\n\u001b[0;32m      9\u001b[0m     \u001b[1;32mreturn\u001b[0m \u001b[0mL\u001b[0m\u001b[1;33m\u001b[0m\u001b[0m\n\u001b[0;32m     10\u001b[0m \u001b[1;33m\u001b[0m\u001b[0m\n\u001b[1;32m---> 11\u001b[1;33m \u001b[1;32massert\u001b[0m \u001b[0mfind\u001b[0m\u001b[1;33m(\u001b[0m\u001b[1;33m[\u001b[0m\u001b[1;36m0\u001b[0m\u001b[1;33m,\u001b[0m\u001b[1;36m1\u001b[0m\u001b[1;33m,\u001b[0m\u001b[1;36m2\u001b[0m\u001b[1;33m,\u001b[0m\u001b[1;36m2\u001b[0m\u001b[1;33m,\u001b[0m\u001b[1;36m2\u001b[0m\u001b[1;33m,\u001b[0m\u001b[1;36m5\u001b[0m\u001b[1;33m,\u001b[0m\u001b[1;36m6\u001b[0m\u001b[1;33m]\u001b[0m\u001b[1;33m,\u001b[0m \u001b[1;36m0\u001b[0m\u001b[1;33m)\u001b[0m\u001b[1;33m==\u001b[0m\u001b[1;36m0\u001b[0m\u001b[1;33m\u001b[0m\u001b[0m\n\u001b[0m\u001b[0;32m     12\u001b[0m \u001b[1;32massert\u001b[0m \u001b[0mfind\u001b[0m\u001b[1;33m(\u001b[0m\u001b[1;33m[\u001b[0m\u001b[1;36m0\u001b[0m\u001b[1;33m,\u001b[0m\u001b[1;36m1\u001b[0m\u001b[1;33m,\u001b[0m\u001b[1;36m2\u001b[0m\u001b[1;33m,\u001b[0m\u001b[1;36m2\u001b[0m\u001b[1;33m,\u001b[0m\u001b[1;36m2\u001b[0m\u001b[1;33m,\u001b[0m\u001b[1;36m5\u001b[0m\u001b[1;33m,\u001b[0m\u001b[1;36m6\u001b[0m\u001b[1;33m]\u001b[0m\u001b[1;33m,\u001b[0m \u001b[1;36m1\u001b[0m\u001b[1;33m)\u001b[0m\u001b[1;33m==\u001b[0m\u001b[1;36m1\u001b[0m\u001b[1;33m\u001b[0m\u001b[0m\n\u001b[0;32m     13\u001b[0m \u001b[1;32massert\u001b[0m \u001b[0mfind\u001b[0m\u001b[1;33m(\u001b[0m\u001b[1;33m[\u001b[0m\u001b[1;36m0\u001b[0m\u001b[1;33m,\u001b[0m\u001b[1;36m1\u001b[0m\u001b[1;33m,\u001b[0m\u001b[1;36m2\u001b[0m\u001b[1;33m,\u001b[0m\u001b[1;36m2\u001b[0m\u001b[1;33m,\u001b[0m\u001b[1;36m2\u001b[0m\u001b[1;33m,\u001b[0m\u001b[1;36m5\u001b[0m\u001b[1;33m,\u001b[0m\u001b[1;36m6\u001b[0m\u001b[1;33m]\u001b[0m\u001b[1;33m,\u001b[0m \u001b[1;36m2\u001b[0m\u001b[1;33m)\u001b[0m\u001b[1;33m==\u001b[0m\u001b[1;36m2\u001b[0m\u001b[1;33m\u001b[0m\u001b[0m\n",
      "\u001b[1;32m<ipython-input-1-839ff54d41ca>\u001b[0m in \u001b[0;36mfind\u001b[1;34m(x, a)\u001b[0m\n\u001b[0;32m      3\u001b[0m     \u001b[1;32mwhile\u001b[0m \u001b[1;33m(\u001b[0m\u001b[1;33m...\u001b[0m\u001b[1;33m)\u001b[0m\u001b[1;33m:\u001b[0m\u001b[1;33m\u001b[0m\u001b[0m\n\u001b[0;32m      4\u001b[0m         \u001b[0mmid\u001b[0m \u001b[1;33m=\u001b[0m \u001b[1;33m(\u001b[0m\u001b[1;33m...\u001b[0m\u001b[1;33m)\u001b[0m \u001b[1;31m# 注意 Python 的 `/` 除法和 `//` 除法的区别\u001b[0m\u001b[1;33m\u001b[0m\u001b[0m\n\u001b[1;32m----> 5\u001b[1;33m         \u001b[1;32mif\u001b[0m \u001b[0mx\u001b[0m\u001b[1;33m[\u001b[0m\u001b[0mmid\u001b[0m\u001b[1;33m]\u001b[0m\u001b[1;33m>=\u001b[0m\u001b[0ma\u001b[0m\u001b[1;33m:\u001b[0m\u001b[1;33m\u001b[0m\u001b[0m\n\u001b[0m\u001b[0;32m      6\u001b[0m             \u001b[0mR\u001b[0m \u001b[1;33m=\u001b[0m \u001b[0mmid\u001b[0m\u001b[1;33m\u001b[0m\u001b[0m\n\u001b[0;32m      7\u001b[0m         \u001b[1;32melse\u001b[0m\u001b[1;33m:\u001b[0m\u001b[1;33m\u001b[0m\u001b[0m\n",
      "\u001b[1;31mTypeError\u001b[0m: list indices must be integers or slices, not ellipsis"
     ]
    }
   ],
   "source": [
    "def find(x, a): # 返回 i\n",
    "    L, R = 0, len(x)\n",
    "    while (...):\n",
    "        mid = (...) # 注意 Python 的 `/` 除法和 `//` 除法的区别\n",
    "        if x[mid]>=a:\n",
    "            R = mid\n",
    "        else:\n",
    "            (...)\n",
    "    return L\n",
    "\n",
    "assert find([0,1,2,2,2,5,6], 0)==0\n",
    "assert find([0,1,2,2,2,5,6], 1)==1\n",
    "assert find([0,1,2,2,2,5,6], 2)==2\n",
    "assert find([0,1,2,2,2,5,6], 3)==5\n",
    "assert find([0,1,2,2,2,5,6], 4)==5\n",
    "assert find([0,1,2,2,2,5,6], 5)==5\n",
    "assert find([0,1,2,2,2,5,6], 6)==6\n",
    "assert find([0,1,2,2,2,5,6], 7)==7\n",
    "print('Test passed!')"
   ]
  },
  {
   "cell_type": "markdown",
   "metadata": {},
   "source": [
    "##  2  Homework_代码实现\n",
    "\n",
    "\n",
    "**1.设计一个函数，统计一个字符串中出现频率最高的字符及其出现次数**\n",
    "\n",
    "例如：\n",
    "输入：‘asdasddddd’\n",
    "输出： d, 6\n",
    "\n",
    "**2. 判断一个列表是否是等差数列，如果是，则返回这个数列的下一项，如果不是则返回-1.**\n",
    "\n",
    "例如：\n",
    "输入：[1,2,3,4,5]\n",
    "输出：6\n",
    "输入：[2,3,5,6,7]\n",
    "输出：-1\n",
    "\n",
    "**3. 使用filter函数剔除列表中的非回文数**\n",
    "\n",
    "例如：\n",
    "输入：[12321,12343,213,242,433]\n",
    "输出：[12321,242]\n",
    "\n",
    "**4. 实现数字列表的归并排序**\n",
    "\n",
    "例如：\n",
    "输入：[12,3,4,6,7,1,8,5]\n",
    "输出：[1,3,4,5,6,7,8,12]\n",
    "\n",
    "**5. 将一个字典扁平化**\n",
    "\n",
    "例如：\n",
    "输入：src = {'a':{'b':1,'c':2},'d':{'e':3,'f':{'g':4}}}\n",
    "输出：dest = {'a.b':1,'a.c':2,'d.e':3,'d.f.g':4}\n",
    "\n",
    "**6. 凯撒密码**\n",
    "\n",
    "原文：A B C D E F G H I J K L M N O P Q R S T U V W X Y Z\n",
    "\n",
    "密文：D E F G H I J K L M N O P Q R S T U V W X Y Z A B C\n",
    "\n",
    "对于原文字符P，其密文字符C满足如下条件：C=(P+3) mod 26\n",
    "\n",
    "上述是凯撒密码的加密方法，解密方法反之，即：P=(C-3) mod 26\n",
    "\n",
    "请编写一个程序，对输入字符串进行凯撒密码加密，直接输出结果，其中空格不用进行加密处理。使用input()获得输入。大小写不区分.\n",
    "\n",
    "例如：\n",
    "输入：There is no doubt that happiness is the most precious thing in the world."
   ]
  },
  {
   "cell_type": "code",
   "execution_count": null,
   "metadata": {},
   "outputs": [],
   "source": []
  }
 ],
 "metadata": {
  "kernelspec": {
   "display_name": "Python 3",
   "language": "python",
   "name": "python3"
  },
  "language_info": {
   "codemirror_mode": {
    "name": "ipython",
    "version": 3
   },
   "file_extension": ".py",
   "mimetype": "text/x-python",
   "name": "python",
   "nbconvert_exporter": "python",
   "pygments_lexer": "ipython3",
   "version": "3.7.2"
  }
 },
 "nbformat": 4,
 "nbformat_minor": 2
}
