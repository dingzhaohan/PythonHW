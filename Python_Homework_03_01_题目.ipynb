{
 "cells": [
  {
   "cell_type": "markdown",
   "metadata": {},
   "source": [
    "# Homework_2019_03_01\n",
    "\n",
    "## 1. 找出一個列表中，只出現了一次的数字，并且保持原來的次序.\n",
    "例如：\n",
    "输入：[2,6,1,3,7,2,7]\n",
    "输出：[6,1,3]\n",
    "\n",
    "\n",
    "## 2. 将以‘:’和‘|’为分隔符的字符串处理成 python 字典\n",
    "例如：\n",
    "输入：\"k:1|k1:2|k2:3|k3:4\"\n",
    "输出：{‘k‘:‘1‘, ‘k1‘:‘2‘, ‘k2‘:‘3‘,‘k3‘:‘4‘ }\n",
    "\n",
    "\n",
    "## 3. 将一个正整数分解质因数\n",
    "例如：\n",
    "输入：210\n",
    "输出：2\\*3\\*5\\*7\n",
    "\n",
    "\n",
    "## 4. 使用filter函数，找到[1,100]之间的所有素数\n",
    "\n",
    "\n",
    "## 5. 英文词频统计\n",
    "输入为以下一段英文，大小写不区分，标点符号不计。\n",
    "\"There is no doubt that happiness is the most precious thing in the world. Without it, life will be empty and meaningless. If you wish to know how to get happiness, you must pay attention to the following two points.\"\n",
    "\n",
    "\n",
    "## 6. 牛顿迭代法\n",
    "以方程：x^3-0.2\\*x^2-0.2\\*x-1.2=0为例，编写程序求该方程的根,精度为0.00000001\n"
   ]
  },
  {
   "cell_type": "code",
   "execution_count": null,
   "metadata": {},
   "outputs": [],
   "source": []
  }
 ],
 "metadata": {
  "kernelspec": {
   "display_name": "Python 3",
   "language": "python",
   "name": "python3"
  },
  "language_info": {
   "codemirror_mode": {
    "name": "ipython",
    "version": 3
   },
   "file_extension": ".py",
   "mimetype": "text/x-python",
   "name": "python",
   "nbconvert_exporter": "python",
   "pygments_lexer": "ipython3",
   "version": "3.5.6"
  }
 },
 "nbformat": 4,
 "nbformat_minor": 2
}
