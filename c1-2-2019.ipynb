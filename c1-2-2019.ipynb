{
 "cells": [
  {
   "cell_type": "markdown",
   "metadata": {},
   "source": [
    "# Basic Python\n",
    "\n",
    "\n",
    "## 重要特性\n",
    " * Python 的设计哲学强调代码的可读性和简洁的语法（尤其是使用空格缩进划分代码块，而非使用大括号或者关键词）。\n",
    " * Python为我们提供了非常完善的基础代码库，覆盖了网络、文件、GUI、数据库、文本等大量内容，被形象地称作“内置电池。“用Python开发，许多功能不必从零编写，直接使用现成的即可。除了内置的库外，Python还有大量的第三方库，也就是别人开发的，供你直接使用的东西。当然，如果你开发的代码通过很好的封装，也可以作为第三方库给别人使用。Python被人们称为“胶水语言”，是因为它的可拓展的特性。 它可以随时将标准库和你自己创建的任何语言的模块工具用同样的界面进行拓展和复用。能够灵活附加或定制工具，缩短开发周期。另外python拥有的一些插件也允许它可以进行混合语言的编程。\n",
    " \n",
    " * 解释型语言：当我们编写Python代码时，我们得到的是一个包含Python代码的以.py为扩展名的文本文件。要运行代码，就需要Python解释器去执行.py文件\n",
    "\n",
    " * 和C程序相比非常慢，因为Python是解释型语言，你的代码在执行时会一行一行地翻译成CPU能理解的机器码，这个翻译过程非常耗时，所以很慢。而C程序是运行前直接编译成CPU能执行的机器码，所以非常快。\n",
    "\n",
    " * 代码不能加密。如果要发布你的Python程序，实际上就是发布源代码，这一点跟C语言不同，C语言不用发布源代码，只需要把编译后的机器码（也就是你在Windows上常见的xxx.exe文件）发布出去。"
   ]
  },
  {
   "cell_type": "code",
   "execution_count": 1,
   "metadata": {},
   "outputs": [
    {
     "name": "stdout",
     "output_type": "stream",
     "text": [
      "Hello, I'm Python!\n",
      "What is your name?\n",
      "hu\n",
      "Hi, hu.\n"
     ]
    }
   ],
   "source": [
    "# 第一个例子 Simple output (with Unicode)\n",
    "print(\"Hello, I'm Python!\")\n",
    "\n",
    "# Input, assignment\n",
    "name = input('What is your name?\\n')\n",
    "print('Hi, %s.' % name)\n"
   ]
  },
  {
   "cell_type": "code",
   "execution_count": null,
   "metadata": {},
   "outputs": [],
   "source": []
  },
  {
   "cell_type": "markdown",
   "metadata": {},
   "source": [
    "### 表达式计算"
   ]
  },
  {
   "cell_type": "code",
   "execution_count": 4,
   "metadata": {},
   "outputs": [
    {
     "data": {
      "text/plain": [
       "2"
      ]
     },
     "execution_count": 4,
     "metadata": {},
     "output_type": "execute_result"
    }
   ],
   "source": [
    "(10 + 12) // 4 % 3  # 计算器  // 表示整除  % 取模"
   ]
  },
  {
   "cell_type": "code",
   "execution_count": 7,
   "metadata": {},
   "outputs": [
    {
     "name": "stdout",
     "output_type": "stream",
     "text": [
      "a= 4.333333333333333\n",
      "b= 10.3\n"
     ]
    }
   ],
   "source": [
    "a = 2 + 10              # 变量名直接使用，解释性语言特色\n",
    "print(\"a=\", (a + 1) /3)  # 表达式做函数参数\n",
    "b = 3**2 + 1.3           # ** 乘方运算  \n",
    "print(\"b=\", b)"
   ]
  },
  {
   "cell_type": "markdown",
   "metadata": {},
   "source": [
    "## 基本数据类型\n",
    "  * 无需此类显式变量声明语句\n",
    "  * 无需类型声明。\n",
    "  Python 语言中，对象的类型和内存占用都是运行时确定的。尽管代码被编译成字节码，Python 仍然是一种解释型语言。在创建也就是赋值时，解释器会根据语法和右侧的操作数来决定新对象的类型。在对象创建后，一个该对象的引用会被赋值给左侧的变量。"
   ]
  },
  {
   "cell_type": "code",
   "execution_count": 6,
   "metadata": {
    "scrolled": false
   },
   "outputs": [
    {
     "name": "stdout",
     "output_type": "stream",
     "text": [
      "3\n",
      "<class 'int'>\n",
      "<class 'int'> <class 'float'>\n"
     ]
    }
   ],
   "source": [
    "x = 3\n",
    "print (x)\n",
    "print (type(x))\n",
    "print (type(5),type(5.4))   # 常量也是对象"
   ]
  },
  {
   "cell_type": "code",
   "execution_count": 9,
   "metadata": {},
   "outputs": [
    {
     "name": "stdout",
     "output_type": "stream",
     "text": [
      "1225 <class 'int'>\n",
      "1.6 <class 'float'>\n",
      "2 <class 'int'>\n"
     ]
    }
   ],
   "source": [
    "d = a ** 2               # Exponentiation ； a = 35\n",
    "f = 8 / 5   # division always returns a float\n",
    "g = 8 // 3  #整除\n",
    "\n",
    "print(d, type(d))\n",
    "print(f, type(f))\n",
    "print(g, type(g))"
   ]
  },
  {
   "cell_type": "markdown",
   "metadata": {},
   "source": [
    "  * Integers可以任意长度，由内存大小决定\n",
    "  * floating point number精确到15位十进制小数\n",
    "  * [相关计算与参考资料](https://docs.python.org/2/library/stdtypes.html#numeric-types-int-float-long-complex)"
   ]
  },
  {
   "cell_type": "code",
   "execution_count": 98,
   "metadata": {
    "scrolled": true
   },
   "outputs": [
    {
     "name": "stdout",
     "output_type": "stream",
     "text": [
      "10 <class 'int'>\n",
      "13.1415926 30 1000\n"
     ]
    }
   ],
   "source": [
    "b = 8\n",
    "b += g\n",
    "print(b, type(b))\n",
    "print(b+3.1415926, b*3, b**3)"
   ]
  },
  {
   "cell_type": "code",
   "execution_count": 100,
   "metadata": {},
   "outputs": [
    {
     "name": "stdout",
     "output_type": "stream",
     "text": [
      "0b100001\n",
      "6\n"
     ]
    }
   ],
   "source": [
    "n = 33\n",
    "print(bin(n))\n",
    "print(n.bit_length())  # remove leading zeros"
   ]
  },
  {
   "cell_type": "markdown",
   "metadata": {},
   "source": [
    "#### Booleans 布尔类型"
   ]
  },
  {
   "cell_type": "code",
   "execution_count": 11,
   "metadata": {},
   "outputs": [
    {
     "name": "stdout",
     "output_type": "stream",
     "text": [
      "<class 'bool'>\n"
     ]
    }
   ],
   "source": [
    "t, f = True, False\n",
    "print (type(t)) # Prints \"<type 'bool'>\""
   ]
  },
  {
   "cell_type": "code",
   "execution_count": 14,
   "metadata": {},
   "outputs": [
    {
     "name": "stdout",
     "output_type": "stream",
     "text": [
      "False\n",
      "True\n",
      "False\n",
      "True\n"
     ]
    }
   ],
   "source": [
    "print (t and f)   # Logical AND;\n",
    "print (t or f)    # Logical OR;\n",
    "print (not t)     # Logical NOT;\n",
    "print (t != f)    # Logical XOR;"
   ]
  },
  {
   "cell_type": "code",
   "execution_count": 13,
   "metadata": {},
   "outputs": [
    {
     "name": "stdout",
     "output_type": "stream",
     "text": [
      "Please enter an integer: 11\n",
      "Single\n",
      "out of the block\n"
     ]
    }
   ],
   "source": [
    "x = int(input(\"Please enter an integer: \"))\n",
    "if x < 0:\n",
    "    x = 0\n",
    "    print('Negative changed to zero')\n",
    "elif x == 0:\n",
    "    print('Zero')\n",
    "elif x%2 == 1:\n",
    "    print('Single')\n",
    "else:\n",
    "    print('Other')\n",
    "    print(\"in the block\")\n",
    "print('out of the block')"
   ]
  },
  {
   "cell_type": "markdown",
   "metadata": {},
   "source": [
    "### string类型的操作函数：\n",
    "#### (https://docs.python.org/2/library/stdtypes.html#string-methods)."
   ]
  },
  {
   "cell_type": "code",
   "execution_count": 1,
   "metadata": {},
   "outputs": [
    {
     "name": "stdout",
     "output_type": "stream",
     "text": [
      "Do U have a nice sleep?\n",
      "No I don't.\n"
     ]
    }
   ],
   "source": [
    "str = 'Do U have a nice sleep?'\n",
    "str += '\\n' + \"No I don't.\"\n",
    "print (str)"
   ]
  },
  {
   "cell_type": "code",
   "execution_count": 80,
   "metadata": {},
   "outputs": [
    {
     "name": "stdout",
     "output_type": "stream",
     "text": [
      "b\n"
     ]
    }
   ],
   "source": [
    "str = 'abcd'\n",
    "print (str[1])\n",
    "#str[1] = 'q'   # 不可修改"
   ]
  },
  {
   "cell_type": "code",
   "execution_count": 74,
   "metadata": {
    "scrolled": true
   },
   "outputs": [
    {
     "name": "stdout",
     "output_type": "stream",
     "text": [
      "11123123abc\n",
      "23123abc\n",
      "s.find =  3\n",
      "6 1\n"
     ]
    }
   ],
   "source": [
    "s = \"    11123123abc\"     #str.strip([chars]) 去前导空格以及特殊符号\n",
    "s = s.strip(' ')\n",
    "print(s)\n",
    "print(s.strip('1'))\n",
    "\n",
    "print('s.find = ',s.find('23'))\n",
    "i = s.find('23', 4)      # 从特定下标开始定位串\n",
    "print (i, s.count('11'))"
   ]
  },
  {
   "cell_type": "markdown",
   "metadata": {},
   "source": [
    "#### str.split(sep=None, maxsplit=-1)\n",
    "  * Return a <b>list</b> of the words in the string, using sep as the delimiter string. If maxsplit is given, at most maxsplit splits are done (thus, the list will have at most maxsplit+1 elements). If maxsplit is not specified or -1, then there is no limit on the number of splits (all possible splits are made)."
   ]
  },
  {
   "cell_type": "code",
   "execution_count": 71,
   "metadata": {},
   "outputs": [
    {
     "name": "stdout",
     "output_type": "stream",
     "text": [
      "['ab', 'cde', 'fgh', 'ijk']\n",
      "['ab', 'cde', 'fgh,ijk']\n"
     ]
    }
   ],
   "source": [
    "s = 'ab,cde,fgh,ijk'  \n",
    "\n",
    "print(s.split(','))  # 切分开逗号分割的串\n",
    "print(s.split(',', maxsplit= 2))"
   ]
  },
  {
   "cell_type": "markdown",
   "metadata": {},
   "source": [
    "#### str.join(iterable)\n",
    "  * Join a list of words into a string."
   ]
  },
  {
   "cell_type": "code",
   "execution_count": 83,
   "metadata": {},
   "outputs": [
    {
     "name": "stdout",
     "output_type": "stream",
     "text": [
      "Brazil:Russia:India:China\n"
     ]
    }
   ],
   "source": [
    "delimiter = ':'   \n",
    "\n",
    "mylist = ['Brazil', 'Russia', 'India', 'China']\n",
    "\n",
    "print(delimiter.join(mylist))"
   ]
  },
  {
   "cell_type": "markdown",
   "metadata": {},
   "source": [
    "## Containers : List & Tuple & Dict & Set ( bytearray, buffer, xrange )\n",
    "\n",
    "### List（列表）"
   ]
  },
  {
   "cell_type": "code",
   "execution_count": 21,
   "metadata": {},
   "outputs": [
    {
     "name": "stdout",
     "output_type": "stream",
     "text": [
      "a =  [1, 2, 'aaa', 1.23]\n",
      "a[1] = 2 ; a[2] =  aaa\n",
      "len(a) = 4\n"
     ]
    }
   ],
   "source": [
    "a = [1, 2, 'aaa', 1.23]   # 可以大体理解为一个泛类型的数据对象数组\n",
    "\n",
    "print('a = ',a)\n",
    "print(\"a[1] =\", a[1], \"; a[2] = \", a[2])\n",
    "print('len(a) =', len(a))"
   ]
  },
  {
   "cell_type": "markdown",
   "metadata": {},
   "source": [
    "#### 添加元素 append() "
   ]
  },
  {
   "cell_type": "code",
   "execution_count": 28,
   "metadata": {},
   "outputs": [
    {
     "name": "stdout",
     "output_type": "stream",
     "text": [
      "[20.5, 30, 'hello wrold!']\n"
     ]
    }
   ],
   "source": [
    "a = []         # 空列表\n",
    "\n",
    "a.append(20.5)\n",
    "a.append(30)\n",
    "a.append('hello wrold!')\n",
    "print(a)"
   ]
  },
  {
   "cell_type": "markdown",
   "metadata": {},
   "source": [
    "#### 插入元素 insert()"
   ]
  },
  {
   "cell_type": "code",
   "execution_count": 29,
   "metadata": {},
   "outputs": [
    {
     "name": "stdout",
     "output_type": "stream",
     "text": [
      "[20.5, 30, 'beautiful', 'hello wrold!']\n",
      "[20.5, 30, 'beautiful', 24, 'hello wrold!']\n"
     ]
    }
   ],
   "source": [
    "a.insert(2,'beautiful')\n",
    "print(a)\n",
    "\n",
    "a.insert (-1,24)\n",
    "print(a)"
   ]
  },
  {
   "cell_type": "markdown",
   "metadata": {},
   "source": [
    "#### 删除列表元素 del()"
   ]
  },
  {
   "cell_type": "code",
   "execution_count": 34,
   "metadata": {},
   "outputs": [
    {
     "name": "stdout",
     "output_type": "stream",
     "text": [
      "[1, 2, 10]\n",
      "[]\n"
     ]
    },
    {
     "ename": "NameError",
     "evalue": "name 'a' is not defined",
     "output_type": "error",
     "traceback": [
      "\u001b[1;31m---------------------------------------------------------------------------\u001b[0m",
      "\u001b[1;31mNameError\u001b[0m                                 Traceback (most recent call last)",
      "\u001b[1;32m<ipython-input-34-5cac9423a08a>\u001b[0m in \u001b[0;36m<module>\u001b[1;34m()\u001b[0m\n\u001b[0;32m      9\u001b[0m \u001b[1;33m\u001b[0m\u001b[0m\n\u001b[0;32m     10\u001b[0m \u001b[1;32mdel\u001b[0m \u001b[0ma\u001b[0m      \u001b[1;31m# 删除列表对象\u001b[0m\u001b[1;33m\u001b[0m\u001b[0m\n\u001b[1;32m---> 11\u001b[1;33m \u001b[0mprint\u001b[0m\u001b[1;33m(\u001b[0m\u001b[0ma\u001b[0m\u001b[1;33m)\u001b[0m\u001b[1;33m\u001b[0m\u001b[0m\n\u001b[0m",
      "\u001b[1;31mNameError\u001b[0m: name 'a' is not defined"
     ]
    }
   ],
   "source": [
    "a = [1,2,3,4]    #新列表\n",
    "\n",
    "del a[2]   # 删除下标为2的元素\n",
    "a[2] = 10 \n",
    "print(a)\n",
    "\n",
    "a.clear()  # 清空列表\n",
    "print(a)\n",
    "\n",
    "del a      # 删除列表对象 \n",
    "print(a)"
   ]
  },
  {
   "cell_type": "markdown",
   "metadata": {},
   "source": [
    "#### 清空列表clear()"
   ]
  },
  {
   "cell_type": "code",
   "execution_count": 70,
   "metadata": {},
   "outputs": [
    {
     "name": "stdout",
     "output_type": "stream",
     "text": [
      "[]\n"
     ]
    }
   ],
   "source": [
    "a = [1,2,3]\n",
    "\n",
    "a.clear()\n",
    "\n",
    "print(a)"
   ]
  },
  {
   "cell_type": "markdown",
   "metadata": {},
   "source": [
    "#### 判断是否在list中"
   ]
  },
  {
   "cell_type": "code",
   "execution_count": 46,
   "metadata": {
    "scrolled": true
   },
   "outputs": [
    {
     "name": "stdout",
     "output_type": "stream",
     "text": [
      "True\n",
      "index(5) =  2\n"
     ]
    }
   ],
   "source": [
    "a = [1,3,5,7]\n",
    "print(1 in a)\n",
    "d = a.index(5)\n",
    "print ('index(5) = ',d)"
   ]
  },
  {
   "cell_type": "markdown",
   "metadata": {},
   "source": [
    "#### count()"
   ]
  },
  {
   "cell_type": "code",
   "execution_count": 54,
   "metadata": {},
   "outputs": [
    {
     "data": {
      "text/plain": [
       "2"
      ]
     },
     "execution_count": 54,
     "metadata": {},
     "output_type": "execute_result"
    }
   ],
   "source": [
    "fruits = ['orange', 'apple', ['apple', 'banana'], 'kiwi', 'apple', 'banana']\n",
    "fruits.count('apple')"
   ]
  },
  {
   "cell_type": "markdown",
   "metadata": {},
   "source": [
    "### Tuple（元组）\n",
    "* 和List不同在于，一旦初始化后不可更改\n",
    "* 元组虽不可变，但其中嵌套元素可变（因为本身只是引用）"
   ]
  },
  {
   "cell_type": "code",
   "execution_count": 15,
   "metadata": {},
   "outputs": [
    {
     "name": "stdout",
     "output_type": "stream",
     "text": [
      "(1, 2)\n",
      "2\n"
     ]
    }
   ],
   "source": [
    "t = (1,2)\n",
    "\n",
    "print(t)\n",
    "\n",
    "print(t[1])"
   ]
  },
  {
   "cell_type": "code",
   "execution_count": 74,
   "metadata": {},
   "outputs": [
    {
     "name": "stdout",
     "output_type": "stream",
     "text": [
      "('a', 'b', ['X', 'B'])\n"
     ]
    }
   ],
   "source": [
    "t = ('a', 'b', ['A', 'B'])\n",
    "\n",
    "t[2][0] = 'X'\n",
    "\n",
    "print(t)\n",
    "\n",
    "# t[0]  = 'd'   # this may cause an error"
   ]
  },
  {
   "cell_type": "code",
   "execution_count": 81,
   "metadata": {},
   "outputs": [
    {
     "name": "stdout",
     "output_type": "stream",
     "text": [
      "('1', '2', '3', '4')\n"
     ]
    },
    {
     "data": {
      "text/plain": [
       "('1', '2')"
      ]
     },
     "execution_count": 81,
     "metadata": {},
     "output_type": "execute_result"
    }
   ],
   "source": [
    "#元组展开\n",
    "a = tuple('1234')  # 展开为一个tuple\n",
    "print(a)\n",
    "\n",
    "c, d,*_ = a   # unpack \n",
    "c,d"
   ]
  },
  {
   "cell_type": "code",
   "execution_count": 87,
   "metadata": {},
   "outputs": [
    {
     "name": "stdout",
     "output_type": "stream",
     "text": [
      "(1, 2, 3, 3, 4)\n"
     ]
    }
   ],
   "source": [
    "# 元组 合并\n",
    "\n",
    "t2 = (3,4)\n",
    "t = (1,2,3)\n",
    "\n",
    "print(t+t2)"
   ]
  },
  {
   "cell_type": "markdown",
   "metadata": {},
   "source": [
    "### Dict (key-value)\n",
    "* 即为词典，按关键词查询，删除，修改。可以类比C++语言的map\n",
    "  * class dict(**kwarg)\n",
    "  * class dict(mapping, **kwarg)\n",
    "  * class dict(iterable, **kwarg)"
   ]
  },
  {
   "cell_type": "code",
   "execution_count": 99,
   "metadata": {
    "scrolled": true
   },
   "outputs": [
    {
     "name": "stdout",
     "output_type": "stream",
     "text": [
      "Michael =  95\n",
      "Bob =  fail\n"
     ]
    }
   ],
   "source": [
    "d = {'Michael': 95, 'Bob': 75, 1: 85}\n",
    "print('Michael = ', d['Michael'])\n",
    "\n",
    "d['Bob'] = 'fail'\n",
    "print('Bob = ', d['Bob'])"
   ]
  },
  {
   "cell_type": "code",
   "execution_count": 105,
   "metadata": {},
   "outputs": [
    {
     "name": "stdout",
     "output_type": "stream",
     "text": [
      "True\n",
      "Michael 95\n",
      "Bob fail\n",
      "1 85\n",
      "Laohu 80\n",
      "Xiao Li 90\n"
     ]
    }
   ],
   "source": [
    "d['Xiao Li'] = '90'\n",
    "print ('Xiao Li' in d)\n",
    "\n",
    "for k in d:\n",
    "    print (k,d[k])   # case sensitive\n"
   ]
  },
  {
   "cell_type": "markdown",
   "metadata": {},
   "source": [
    "#### 判断是否存在当前键值对"
   ]
  },
  {
   "cell_type": "code",
   "execution_count": 111,
   "metadata": {
    "scrolled": true
   },
   "outputs": [
    {
     "name": "stdout",
     "output_type": "stream",
     "text": [
      "85\n"
     ]
    },
    {
     "data": {
      "text/plain": [
       "0"
      ]
     },
     "execution_count": 111,
     "metadata": {},
     "output_type": "execute_result"
    }
   ],
   "source": [
    "print(d.get(1))\n",
    "d.get('Lily',0)   # 0 - default None"
   ]
  },
  {
   "cell_type": "code",
   "execution_count": 94,
   "metadata": {},
   "outputs": [
    {
     "data": {
      "text/plain": [
       "True"
      ]
     },
     "execution_count": 94,
     "metadata": {},
     "output_type": "execute_result"
    }
   ],
   "source": [
    "a = dict(one=1, two=2, three=3)\n",
    "b = {'one': 1, 'two': 2, 'three': 3}\n",
    "d = dict([('two', 2), ('one', 1), ('three', 3)])\n",
    "e = dict({'three': 3, 'one': 1, 'two': 2})\n",
    "a == b == d == e"
   ]
  },
  {
   "cell_type": "code",
   "execution_count": 119,
   "metadata": {},
   "outputs": [
    {
     "name": "stdout",
     "output_type": "stream",
     "text": [
      "False\n",
      "1777767271808 1777767294368\n"
     ]
    }
   ],
   "source": [
    "print ( a is b)\n",
    "print ( id(a), id(b))"
   ]
  },
  {
   "cell_type": "markdown",
   "metadata": {},
   "source": [
    "#### 键值\n",
    "* dict根据key的内容来哈希，因此 key值不可变"
   ]
  },
  {
   "cell_type": "code",
   "execution_count": 130,
   "metadata": {},
   "outputs": [
    {
     "name": "stdout",
     "output_type": "stream",
     "text": [
      "1 555\n",
      "2 22\n",
      "3 33\n",
      "(1, 2, 3) a list\n"
     ]
    }
   ],
   "source": [
    "key = 1, 2, 3      # key = [1, 2, 3] error \n",
    "d[key] = 'a list'  \n",
    "for k in d:\n",
    "    print (k,d[k])"
   ]
  },
  {
   "cell_type": "markdown",
   "metadata": {},
   "source": [
    "#### 可变 & 不可变\n",
    "* 数值型，string型，tuple不可变\n",
    "* dict，list可变"
   ]
  },
  {
   "cell_type": "code",
   "execution_count": 24,
   "metadata": {},
   "outputs": [
    {
     "data": {
      "text/plain": [
       "['a', 'b', 'c']"
      ]
     },
     "execution_count": 24,
     "metadata": {},
     "output_type": "execute_result"
    }
   ],
   "source": [
    "a = ['c', 'b', 'a']\n",
    "\n",
    "a.sort()\n",
    "\n",
    "a"
   ]
  },
  {
   "cell_type": "code",
   "execution_count": 123,
   "metadata": {},
   "outputs": [
    {
     "name": "stdout",
     "output_type": "stream",
     "text": [
      "Abc\n",
      "abc\n"
     ]
    }
   ],
   "source": [
    "a = 'abc'\n",
    "\n",
    "b = a.replace('a', 'A')\n",
    "\n",
    "print(b)\n",
    "print(a)"
   ]
  },
  {
   "cell_type": "markdown",
   "metadata": {},
   "source": [
    "#### 删除键值对"
   ]
  },
  {
   "cell_type": "code",
   "execution_count": 125,
   "metadata": {},
   "outputs": [
    {
     "data": {
      "text/plain": [
       "{2: 22, 3: 33}"
      ]
     },
     "execution_count": 125,
     "metadata": {},
     "output_type": "execute_result"
    }
   ],
   "source": [
    "d = {1:11, 2:22, 3:33}\n",
    "\n",
    "d.pop((1))\n",
    "\n",
    "d"
   ]
  },
  {
   "cell_type": "markdown",
   "metadata": {},
   "source": [
    "#### 访问dict\n",
    "* items()已元组序列的方式返回词典的拷贝\n",
    "* items(),keys(),values() are all view objects,they are iterable but do not support indexing"
   ]
  },
  {
   "cell_type": "code",
   "execution_count": 116,
   "metadata": {},
   "outputs": [
    {
     "name": "stdout",
     "output_type": "stream",
     "text": [
      "1 11\n",
      "2 22\n",
      "3 33\n",
      "1 555\n",
      "2 22\n",
      "3 33\n"
     ]
    }
   ],
   "source": [
    "d = {1:11, 2:22, 3:33}\n",
    "\n",
    "for k,v in d.items():  \n",
    "    print(k, v)\n",
    "\n",
    "d[1] = 555\n",
    "\n",
    "for k in d:  \n",
    "    print(k, d[k])"
   ]
  },
  {
   "cell_type": "markdown",
   "metadata": {},
   "source": [
    "#### 更新合并dict"
   ]
  },
  {
   "cell_type": "code",
   "execution_count": 32,
   "metadata": {},
   "outputs": [
    {
     "data": {
      "text/plain": [
       "{'ip': '127.0.0.1', 'port:': '8088', 'pwd': '1234', 'usr': 'root'}"
      ]
     },
     "execution_count": 32,
     "metadata": {},
     "output_type": "execute_result"
    }
   ],
   "source": [
    "d1 = {'usr':'root','pwd':'1234'}\n",
    "\n",
    "d2 = {'ip':'127.0.0.1','port:':'8088'}\n",
    "\n",
    "d3 = {}\n",
    "\n",
    "d3.update(d1)\n",
    "\n",
    "d3.update(d2)\n",
    "\n",
    "d3"
   ]
  },
  {
   "cell_type": "code",
   "execution_count": 33,
   "metadata": {},
   "outputs": [
    {
     "data": {
      "text/plain": [
       "{'ip': '127.0.0.1', 'port:': '8088', 'pwd': '1234', 'usr': 'root'}"
      ]
     },
     "execution_count": 33,
     "metadata": {},
     "output_type": "execute_result"
    }
   ],
   "source": [
    "d1 = {'usr':'root','pwd':'1234'}\n",
    "\n",
    "d2 = {'ip':'127.0.0.1','port:':'8088'}\n",
    "\n",
    "d3 = dict(d1,**d2)\n",
    "\n",
    "d3"
   ]
  },
  {
   "cell_type": "markdown",
   "metadata": {},
   "source": [
    "### set集合\n",
    " * class set([iterable])\n",
    " * <b>unodered</b> collection of distinct hashable objects"
   ]
  },
  {
   "cell_type": "code",
   "execution_count": 84,
   "metadata": {},
   "outputs": [
    {
     "name": "stdout",
     "output_type": "stream",
     "text": [
      "{1, 2, 3, 4, 5} \n",
      " {'a', 'c', 'b'}\n"
     ]
    }
   ],
   "source": [
    "s1 = {1,2,3,4,5,5,1}\n",
    "s2 = set('abcaabbcc')  #unique letters in s\n",
    "print(s1,'\\n',s2)"
   ]
  },
  {
   "cell_type": "code",
   "execution_count": 90,
   "metadata": {},
   "outputs": [
    {
     "data": {
      "text/plain": [
       "{1, 2, 3, 5, 7}"
      ]
     },
     "execution_count": 90,
     "metadata": {},
     "output_type": "execute_result"
    }
   ],
   "source": [
    "s1.add(7)\n",
    "s1.remove(4)\n",
    "s1"
   ]
  },
  {
   "cell_type": "code",
   "execution_count": 93,
   "metadata": {},
   "outputs": [
    {
     "data": {
      "text/plain": [
       "{2, 3}"
      ]
     },
     "execution_count": 93,
     "metadata": {},
     "output_type": "execute_result"
    }
   ],
   "source": [
    "s1 = set([1, 2, 3, 3, 2])\n",
    "\n",
    "s2 = set([2, 3, 4])\n",
    "\n",
    "s1 & s2 #  also have : s1 | s2; s1 - s2 "
   ]
  },
  {
   "cell_type": "markdown",
   "metadata": {},
   "source": [
    "### 数据类型之间的相互转换"
   ]
  },
  {
   "cell_type": "code",
   "execution_count": 103,
   "metadata": {},
   "outputs": [
    {
     "name": "stdout",
     "output_type": "stream",
     "text": [
      "5.0\n",
      "10\n",
      "2.5\n"
     ]
    }
   ],
   "source": [
    "print(float(5))\n",
    "\n",
    "print(int(10.6))\n",
    "\n",
    "print(float('2.5'))\n",
    "\n"
   ]
  },
  {
   "cell_type": "code",
   "execution_count": 183,
   "metadata": {},
   "outputs": [
    {
     "name": "stdout",
     "output_type": "stream",
     "text": [
      "{1, 2, 3}\n",
      "(5, 6, 7)\n",
      "(1, 2)\n",
      "['h', 'e', 'l', 'l', 'o']\n",
      "[1, 2]\n"
     ]
    }
   ],
   "source": [
    "print(set([1,2,3,3,2]))\n",
    "\n",
    "print(tuple({5,6,7}))\n",
    "\n",
    "print(tuple([1,2]))\n",
    "\n",
    "print(list('hello'))\n",
    "\n",
    "print(list({1:2,2:3}))"
   ]
  },
  {
   "cell_type": "code",
   "execution_count": 13,
   "metadata": {
    "scrolled": true
   },
   "outputs": [
    {
     "name": "stdout",
     "output_type": "stream",
     "text": [
      "{1: 2, 3: 4}\n",
      "{3: 26, 4: 44}\n"
     ]
    }
   ],
   "source": [
    "print(dict([[1,2],[3,4]]))\n",
    "\n",
    "print(dict([(3,26),(4,44)]))"
   ]
  },
  {
   "cell_type": "markdown",
   "metadata": {},
   "source": [
    "### string类型的操作函数：\n",
    "#### (https://docs.python.org/2/library/stdtypes.html#string-methods)."
   ]
  },
  {
   "cell_type": "code",
   "execution_count": 60,
   "metadata": {},
   "outputs": [
    {
     "name": "stdout",
     "output_type": "stream",
     "text": [
      "Do U have a nice sleep?\n",
      "No I don't.\n"
     ]
    }
   ],
   "source": [
    "str = 'Do U have a nice sleep?'\n",
    "str += '\\n' + \"No I don\\'t.\"\n",
    "print (str)"
   ]
  },
  {
   "cell_type": "code",
   "execution_count": 80,
   "metadata": {},
   "outputs": [
    {
     "name": "stdout",
     "output_type": "stream",
     "text": [
      "b\n"
     ]
    }
   ],
   "source": [
    "str = 'abcd'\n",
    "print (str[1])\n",
    "#str[1] = 'q'   # 不可修改"
   ]
  },
  {
   "cell_type": "code",
   "execution_count": 74,
   "metadata": {
    "scrolled": true
   },
   "outputs": [
    {
     "name": "stdout",
     "output_type": "stream",
     "text": [
      "11123123abc\n",
      "23123abc\n",
      "s.find =  3\n",
      "6 1\n"
     ]
    }
   ],
   "source": [
    "s = \"    11123123abc\"     #str.strip([chars]) 去前导空格以及特殊符号\n",
    "s = s.strip(' ')\n",
    "print(s)\n",
    "print(s.strip('1'))\n",
    "\n",
    "print('s.find = ',s.find('23'))\n",
    "i = s.find('23', 4)      # 从特定下标开始定位串\n",
    "print (i, s.count('11'))"
   ]
  },
  {
   "cell_type": "markdown",
   "metadata": {},
   "source": [
    "#### str.split(sep=None, maxsplit=-1)\n",
    "  * Return a <b>list</b> of the words in the string, using sep as the delimiter string. If maxsplit is given, at most maxsplit splits are done (thus, the list will have at most maxsplit+1 elements). If maxsplit is not specified or -1, then there is no limit on the number of splits (all possible splits are made)."
   ]
  },
  {
   "cell_type": "code",
   "execution_count": 71,
   "metadata": {},
   "outputs": [
    {
     "name": "stdout",
     "output_type": "stream",
     "text": [
      "['ab', 'cde', 'fgh', 'ijk']\n",
      "['ab', 'cde', 'fgh,ijk']\n"
     ]
    }
   ],
   "source": [
    "s = 'ab,cde,fgh,ijk'  \n",
    "\n",
    "print(s.split(','))  # 切分开逗号分割的串\n",
    "print(s.split(',', maxsplit= 2))"
   ]
  },
  {
   "cell_type": "markdown",
   "metadata": {},
   "source": [
    "#### str.join(iterable)\n",
    "  * Join a list of words into a string."
   ]
  },
  {
   "cell_type": "code",
   "execution_count": 83,
   "metadata": {},
   "outputs": [
    {
     "name": "stdout",
     "output_type": "stream",
     "text": [
      "Brazil:Russia:India:China\n"
     ]
    }
   ],
   "source": [
    "delimiter = ':'   \n",
    "\n",
    "mylist = ['Brazil', 'Russia', 'India', 'China']\n",
    "\n",
    "print(delimiter.join(mylist))"
   ]
  },
  {
   "cell_type": "markdown",
   "metadata": {},
   "source": [
    "## python中的对象"
   ]
  },
  {
   "cell_type": "markdown",
   "metadata": {},
   "source": [
    " * 唯一的标识码(identity)\n",
    " * 类型\n",
    " * 内容（或称为值） \n",
    "  \n",
    "  一旦对象被创建，它的标识码就不允许更改。对象的标识码可以有内建函数id()获取，它是一个整型数。您可以将它想象为该对象在内存中的地址，其实在目前的实现中标识码也就是该对象的内存地址。"
   ]
  },
  {
   "cell_type": "markdown",
   "metadata": {},
   "source": [
    " * 当用is操作符比较两个对象时，就是在比较它们的标识码。更确切地说，is操作符是在判断两个对象是否是同一个对象。\n",
    " * 当用 == 操作符比较两个对象，是在比较他们的值。"
   ]
  },
  {
   "cell_type": "code",
   "execution_count": 310,
   "metadata": {},
   "outputs": [
    {
     "data": {
      "text/plain": [
       "False"
      ]
     },
     "execution_count": 310,
     "metadata": {},
     "output_type": "execute_result"
    }
   ],
   "source": [
    "a = [1,2,3]\n",
    "b = [1,2,3]\n",
    "a is b"
   ]
  },
  {
   "cell_type": "code",
   "execution_count": 311,
   "metadata": {},
   "outputs": [
    {
     "data": {
      "text/plain": [
       "True"
      ]
     },
     "execution_count": 311,
     "metadata": {},
     "output_type": "execute_result"
    }
   ],
   "source": [
    "a == b"
   ]
  },
  {
   "cell_type": "code",
   "execution_count": 312,
   "metadata": {},
   "outputs": [
    {
     "data": {
      "text/plain": [
       "False"
      ]
     },
     "execution_count": 312,
     "metadata": {},
     "output_type": "execute_result"
    }
   ],
   "source": [
    "a = 2.0\n",
    "b = 2.0\n",
    "a is b"
   ]
  },
  {
   "cell_type": "code",
   "execution_count": 313,
   "metadata": {},
   "outputs": [
    {
     "data": {
      "text/plain": [
       "True"
      ]
     },
     "execution_count": 313,
     "metadata": {},
     "output_type": "execute_result"
    }
   ],
   "source": [
    "a = 2\n",
    "b = 2\n",
    "\n",
    "a is b"
   ]
  },
  {
   "cell_type": "markdown",
   "metadata": {},
   "source": [
    " * 在Python中，整数和短小的字符，Python都会缓存这些对象，以便重复使用，不是频繁的建立和销毁。当我们创建多个等于1的引用时，实际上是让这些引用指向了同一个对象。"
   ]
  },
  {
   "cell_type": "markdown",
   "metadata": {},
   "source": [
    "### 名字\n",
    "  * 名字是对一个对象的称呼，一个对象可以只有一个名字，也可以没有名字或取多个名字。名字本身知道它所指向的是个什么对象。给对象取一个名字的操作叫作命名，python将赋值语句认为是一个命名操作（或者称为名字绑定）。\n",
    "  * i = 1\n",
    "    * 创建一个值为1的整型对象\n",
    "    * \"i\"是指向该整型对象的名字（而且它是一个引用）\n",
    "\n",
    "### 绑定\n",
    "  * 绑定就是将一个对象与一个名字联系起来。\n",
    "  * python中的所有对象都有引用计数\n",
    "  * i = i + 1\n",
    "    * 这创建了一个新的对象，其值为i+1。\n",
    "    * \"i\"这个名字指向了该新建的对象，该对象的引用计数加一，而\"i\"以前所指向的老对象的 引用计数减一。\n",
    "    * \"i\"所指向的老对象的值并没有改变。\n",
    "\n",
    "  * 对象的引用计数在下列情况下会增加：\n",
    "    * 赋值操作\n",
    "    * 在一个容器（列表，序列，字典等等）中包含该对象\n",
    "\n",
    "  * 对象的引用计数在下列情况下会减少：\n",
    "    * 离开了当前的名字空间（该名字空间中的本地名字都会被销毁）\n",
    "    * 对象的一个名字被绑定到另外一个对象\n",
    "    * 对象从包含它的容器中移除\n",
    "    * 名字被显示地用del销毁（如：del i）\n",
    "    * 引用计数与对象回收"
   ]
  },
  {
   "cell_type": "code",
   "execution_count": 129,
   "metadata": {},
   "outputs": [
    {
     "data": {
      "text/plain": [
       "[7, 16, 9, 10]"
      ]
     },
     "execution_count": 129,
     "metadata": {},
     "output_type": "execute_result"
    }
   ],
   "source": [
    "li1 = [7, 8, 9, 10]\n",
    "\n",
    "li2 = li1  # 传引用 \n",
    "\n",
    "li1[1] = 16\n",
    "\n",
    "li2"
   ]
  },
  {
   "cell_type": "code",
   "execution_count": 127,
   "metadata": {},
   "outputs": [
    {
     "name": "stdout",
     "output_type": "stream",
     "text": [
      "[{'g': 1.5}, {'g': 1.5}, {'g': 1.5}, {'g': 1.5}]\n",
      "[{'g': '32'}, {'g': '32'}, {'g': '32'}, {'g': '32'}]\n"
     ]
    }
   ],
   "source": [
    "b = [{'g':1.5}] * 4   # 复制引用\n",
    "print (b)\n",
    "\n",
    "b[0]['g'] = '32'\n",
    "print (b)"
   ]
  },
  {
   "cell_type": "code",
   "execution_count": 128,
   "metadata": {},
   "outputs": [
    {
     "data": {
      "text/plain": [
       "[{'g': 2}, {'g': 1}, {'g': 1}, {'g': 1}]"
      ]
     },
     "execution_count": 128,
     "metadata": {},
     "output_type": "execute_result"
    }
   ],
   "source": [
    "b = [{'g':1}] + [{'g':1}] + [{'g':1}] + [{'g':1}]  # 对象列表\n",
    "b[0]['g'] = 2\n",
    "b"
   ]
  },
  {
   "cell_type": "markdown",
   "metadata": {},
   "source": [
    "### 函数定义与传参\n",
    "#### python中所有参数传递都是引用传递"
   ]
  },
  {
   "cell_type": "code",
   "execution_count": 320,
   "metadata": {},
   "outputs": [
    {
     "data": {
      "text/plain": [
       "[1, 10, 3]"
      ]
     },
     "execution_count": 320,
     "metadata": {},
     "output_type": "execute_result"
    }
   ],
   "source": [
    "a = [1, 2, 3]\n",
    "\n",
    "def foo(par):   # def 函数名（参数列表）：\n",
    "\n",
    "    par[1] = 10 #缩进\n",
    "\n",
    "foo(a)\n",
    "\n",
    "a"
   ]
  },
  {
   "cell_type": "code",
   "execution_count": 137,
   "metadata": {},
   "outputs": [
    {
     "name": "stdout",
     "output_type": "stream",
     "text": [
      "140735429078816\n",
      "140735429079136 12\n",
      "2\n"
     ]
    }
   ],
   "source": [
    "def add(d):\n",
    "    d += 10\n",
    "    print(id(d),d)\n",
    "\n",
    "d = 2\n",
    "print(id(d))\n",
    "add(d)\n",
    "print(d)"
   ]
  },
  {
   "cell_type": "markdown",
   "metadata": {},
   "source": [
    "#### 缺省参数\n",
    "  * 当无参数传入，会自动绑定到缺省参数对象上，该对象的值会发生变化\n",
    "  * 有参数传入时，缺省参数对象还在哪里，而且值并没有发生变，类似静态变量"
   ]
  },
  {
   "cell_type": "code",
   "execution_count": 144,
   "metadata": {},
   "outputs": [
    {
     "name": "stdout",
     "output_type": "stream",
     "text": [
      "[0]\n"
     ]
    }
   ],
   "source": [
    "def foo(par=[]):\n",
    "\n",
    "    par.append(0)\n",
    "\n",
    "    print(par)\n",
    "\n",
    "foo()"
   ]
  },
  {
   "cell_type": "code",
   "execution_count": 141,
   "metadata": {},
   "outputs": [
    {
     "name": "stdout",
     "output_type": "stream",
     "text": [
      "[0, 0]\n"
     ]
    }
   ],
   "source": [
    "foo()"
   ]
  },
  {
   "cell_type": "code",
   "execution_count": 142,
   "metadata": {},
   "outputs": [
    {
     "name": "stdout",
     "output_type": "stream",
     "text": [
      "[1, 2, 3, 0]\n"
     ]
    }
   ],
   "source": [
    "a = [1,2,3]\n",
    "\n",
    "foo(a)"
   ]
  },
  {
   "cell_type": "code",
   "execution_count": 143,
   "metadata": {},
   "outputs": [
    {
     "name": "stdout",
     "output_type": "stream",
     "text": [
      "[0, 0, 0]\n"
     ]
    }
   ],
   "source": [
    "foo()"
   ]
  },
  {
   "cell_type": "markdown",
   "metadata": {},
   "source": [
    "  * 赋值语句是名字和对象的绑定过程。\n",
    "  * 函数的传参是对象到不同名字空间的绑定。"
   ]
  },
  {
   "cell_type": "markdown",
   "metadata": {},
   "source": [
    "#### *args and **kwargs\n",
    "  * 主要用于函数定义。 你可以将不定数量的参数传递给一个函数。这里的不定的意思是：预先并不知道, 函数使用者会传递多少个参数给你, 所以在这个场景下使用这两个关键字。 *args 是用来发送一个非键值对的可变数量的参数列表给当前函数. **argv是用来接受一个键值对的可变数量的参数列表给当前函数"
   ]
  },
  {
   "cell_type": "code",
   "execution_count": 196,
   "metadata": {},
   "outputs": [
    {
     "name": "stdout",
     "output_type": "stream",
     "text": [
      "first normal arg: 2018\n",
      "another arg through *argv: python\n",
      "another arg through *argv: eggs\n",
      "another arg through *argv: test\n"
     ]
    }
   ],
   "source": [
    "def test_var_args(f_arg, *argv):   #起始参数（引用），后继序列\n",
    "\n",
    "    print(\"first normal arg:\", f_arg)\n",
    "\n",
    "    for arg in argv:\n",
    "\n",
    "        print(\"another arg through *argv:\", arg)\n",
    "\n",
    "\n",
    "test_var_args('2018', 'python', 'eggs', 'test')"
   ]
  },
  {
   "cell_type": "code",
   "execution_count": 202,
   "metadata": {},
   "outputs": [
    {
     "name": "stdout",
     "output_type": "stream",
     "text": [
      "name = python\n",
      "room = 108\n",
      "place = ['science', 'building']\n"
     ]
    }
   ],
   "source": [
    "def greet_me(**kwargs):  # 参数-值 列表\n",
    "\n",
    "    for key, value in kwargs.items():\n",
    "\n",
    "        print(\"{0} = {1}\".format(key, value))   \n",
    "\n",
    "greet_me(name=\"python\", room = '108', place = ['science','building' ])"
   ]
  },
  {
   "cell_type": "code",
   "execution_count": 127,
   "metadata": {},
   "outputs": [
    {
     "name": "stdout",
     "output_type": "stream",
     "text": [
      "-- Do you have any burger ?\n",
      "-- I'm sorry, we're all out of burger\n",
      "It's very runny, sir.\n",
      "It's really very, VERY runny, sir.\n",
      "----------------------------------------\n",
      "shopkeeper : Michael\n",
      "client : John\n",
      "sketch : Cheese\n"
     ]
    }
   ],
   "source": [
    "def cheeseshop(kind, *arguments, **keywords):\n",
    "    \n",
    "    print(\"-- Do you have any\", kind, \"?\")\n",
    "    print(\"-- I'm sorry, we're all out of\", kind)\n",
    "    \n",
    "    for arg in arguments:\n",
    "        print(arg)\n",
    "        \n",
    "    print(\"-\" * 40)        # 打印分割线\n",
    "    \n",
    "    for kw in keywords:\n",
    "        print(kw, \":\", keywords[kw])\n",
    "\n",
    "cheeseshop(\"burger\", \"It's very runny, sir.\",\n",
    "           \"It's really very, VERY runny, sir.\",\n",
    "           \n",
    "           shopkeeper=\"Michael\",\n",
    "           client=\"John\",\n",
    "           sketch=\"Cheese\")"
   ]
  },
  {
   "cell_type": "markdown",
   "metadata": {},
   "source": [
    "### 赋值 & 深拷贝 & 浅拷贝\n",
    "#### 赋值 传递对象的引用"
   ]
  },
  {
   "cell_type": "code",
   "execution_count": 131,
   "metadata": {},
   "outputs": [
    {
     "name": "stdout",
     "output_type": "stream",
     "text": [
      "id_ls =  1777767321096\n",
      "id_b =  1777767321096\n",
      "[1, 2, 3, ['a', 'b']]\n"
     ]
    }
   ],
   "source": [
    "ls = [1, 2, 3, ['a', 'b']]\n",
    "\n",
    "b = ls   # 传递引用\n",
    "\n",
    "print('id_ls = ', id(ls))\n",
    "print('id_b = ', id(b))\n",
    "print (b)"
   ]
  },
  {
   "cell_type": "code",
   "execution_count": 132,
   "metadata": {},
   "outputs": [
    {
     "name": "stdout",
     "output_type": "stream",
     "text": [
      "[1, 2, 3, ['c', 'b'], 5]\n"
     ]
    }
   ],
   "source": [
    "ls.append(5)\n",
    "ls[3][0] = 'c'\n",
    "\n",
    "print (b)"
   ]
  },
  {
   "cell_type": "markdown",
   "metadata": {},
   "source": [
    "#### 浅拷贝 不拷贝子对象 原始数据改变 子对象会改变"
   ]
  },
  {
   "cell_type": "code",
   "execution_count": 137,
   "metadata": {},
   "outputs": [
    {
     "name": "stdout",
     "output_type": "stream",
     "text": [
      "id_ls =  1777767359752\n",
      "id_c =  1777767321096\n",
      "[1, 2, 3, ['a', 'b']]\n"
     ]
    }
   ],
   "source": [
    "import copy\n",
    "\n",
    "ls = [1, 2, 3, ['a', 'b']]\n",
    "\n",
    "c = copy.copy(ls)  # 对象拷贝（生成新的对象，浅拷贝，对象引用的对象不会被重新生成）\n",
    "print('id_ls = ', id(ls))\n",
    "print('id_c = ', id(b))\n",
    "print (c)"
   ]
  },
  {
   "cell_type": "code",
   "execution_count": 138,
   "metadata": {},
   "outputs": [
    {
     "name": "stdout",
     "output_type": "stream",
     "text": [
      "[1, 2, 3, ['c', 'b', 'cccc'], 6]\n",
      "[1, 2, 3, ['c', 'b', 'cccc']]\n"
     ]
    }
   ],
   "source": [
    "ls[3].append('cccc')\n",
    "\n",
    "ls.append(6)\n",
    "ls[3][0] = 'c'\n",
    "\n",
    "print(ls)\n",
    "print(c)"
   ]
  },
  {
   "cell_type": "markdown",
   "metadata": {},
   "source": [
    "#### 深拷贝 包含对象里面的自对象的拷贝，所以原始对象的改变不会造成深拷贝里任何子元素的改变"
   ]
  },
  {
   "cell_type": "code",
   "execution_count": 139,
   "metadata": {},
   "outputs": [
    {
     "name": "stdout",
     "output_type": "stream",
     "text": [
      "[1, 2, 3, ['a', 'b']]\n"
     ]
    }
   ],
   "source": [
    "import copy\n",
    "\n",
    "list = [1,2,3,[\"a\",\"b\"]]\n",
    "\n",
    "d = copy.deepcopy(list)  #深拷贝，所引用的对象都重新生成\n",
    "\n",
    "list.append(4)\n",
    "list[3][0] = 'c'\n",
    "\n",
    "print(d)"
   ]
  },
  {
   "cell_type": "markdown",
   "metadata": {},
   "source": [
    "## 高级特性\n",
    "### 切片\n",
    "#### List切片"
   ]
  },
  {
   "cell_type": "code",
   "execution_count": 152,
   "metadata": {},
   "outputs": [
    {
     "data": {
      "text/plain": [
       "[2, 3]"
      ]
     },
     "execution_count": 152,
     "metadata": {},
     "output_type": "execute_result"
    }
   ],
   "source": [
    "a = [1,2,3,4,5]\n",
    "\n",
    "b = a[1:3]\n",
    "\n",
    "b"
   ]
  },
  {
   "cell_type": "code",
   "execution_count": 153,
   "metadata": {},
   "outputs": [
    {
     "name": "stdout",
     "output_type": "stream",
     "text": [
      "[2, 3, 4]\n",
      "[2, 3, 4, 5]\n"
     ]
    }
   ],
   "source": [
    "c = a[1:-1]\n",
    "\n",
    "d = a[1:]\n",
    "print(c)\n",
    "print(d)"
   ]
  },
  {
   "cell_type": "code",
   "execution_count": 155,
   "metadata": {},
   "outputs": [
    {
     "data": {
      "text/plain": [
       "[1, 3, 5]"
      ]
     },
     "execution_count": 155,
     "metadata": {},
     "output_type": "execute_result"
    }
   ],
   "source": [
    "d = a[ ::2]  #步长2\n",
    "\n",
    "d"
   ]
  },
  {
   "cell_type": "markdown",
   "metadata": {},
   "source": [
    "#### str切片\n",
    "  * 字符串不可更改内容"
   ]
  },
  {
   "cell_type": "code",
   "execution_count": 157,
   "metadata": {},
   "outputs": [
    {
     "data": {
      "text/plain": [
       "'rso'"
      ]
     },
     "execution_count": 157,
     "metadata": {},
     "output_type": "execute_result"
    }
   ],
   "source": [
    "string = \"ursoooo cute!\"\n",
    "\n",
    "string[1:4]\n",
    "# string[3] = 'a'  #may cause an error"
   ]
  },
  {
   "cell_type": "markdown",
   "metadata": {},
   "source": [
    "#### tuple切片"
   ]
  },
  {
   "cell_type": "code",
   "execution_count": 78,
   "metadata": {},
   "outputs": [
    {
     "data": {
      "text/plain": [
       "(2, 3)"
      ]
     },
     "execution_count": 78,
     "metadata": {},
     "output_type": "execute_result"
    }
   ],
   "source": [
    "t = (1,2,3,4,5,6)\n",
    "\n",
    "t1 = t[1:3]\n",
    "\n",
    "t1"
   ]
  },
  {
   "cell_type": "markdown",
   "metadata": {},
   "source": [
    "### 列表生成式"
   ]
  },
  {
   "cell_type": "code",
   "execution_count": 160,
   "metadata": {},
   "outputs": [
    {
     "name": "stdout",
     "output_type": "stream",
     "text": [
      "[0, 1, 2, 3, 4] 3\n"
     ]
    }
   ],
   "source": [
    "b = [i for i in range(5)]\n",
    "# b *= 2\n",
    "print(b, b[3])"
   ]
  },
  {
   "cell_type": "code",
   "execution_count": 285,
   "metadata": {},
   "outputs": [
    {
     "data": {
      "text/plain": [
       "[1, 4, 9, 16, 25, 36, 49, 64, 81, 100]"
      ]
     },
     "execution_count": 285,
     "metadata": {},
     "output_type": "execute_result"
    }
   ],
   "source": [
    "[x * x for x in range(1, 11)]"
   ]
  },
  {
   "cell_type": "code",
   "execution_count": 286,
   "metadata": {},
   "outputs": [
    {
     "data": {
      "text/plain": [
       "[4, 16, 36, 64, 100]"
      ]
     },
     "execution_count": 286,
     "metadata": {},
     "output_type": "execute_result"
    }
   ],
   "source": [
    "[x * x for x in range(1, 11) if x % 2 == 0]"
   ]
  },
  {
   "cell_type": "code",
   "execution_count": 156,
   "metadata": {},
   "outputs": [
    {
     "data": {
      "text/plain": [
       "['AX', 'AY', 'AZ', 'BX', 'BY', 'BZ', 'CX', 'CY', 'CZ']"
      ]
     },
     "execution_count": 156,
     "metadata": {},
     "output_type": "execute_result"
    }
   ],
   "source": [
    "[m + n for m in 'ABC' for n in 'XYZ']"
   ]
  },
  {
   "cell_type": "code",
   "execution_count": 152,
   "metadata": {
    "scrolled": false
   },
   "outputs": [
    {
     "data": {
      "text/plain": [
       "['x=A', 'y=B', 'z=C']"
      ]
     },
     "execution_count": 152,
     "metadata": {},
     "output_type": "execute_result"
    }
   ],
   "source": [
    "d = {'x': 'A', 'y': 'B', 'z': 'C' }  # 词典\n",
    "\n",
    "[k + '=' + v for k, v in d.items()]"
   ]
  },
  {
   "cell_type": "code",
   "execution_count": 166,
   "metadata": {},
   "outputs": [
    {
     "name": "stdout",
     "output_type": "stream",
     "text": [
      "[0, 1, 4]\n"
     ]
    },
    {
     "data": {
      "text/plain": [
       "[0, 1, 4]"
      ]
     },
     "execution_count": 166,
     "metadata": {},
     "output_type": "execute_result"
    }
   ],
   "source": [
    "L = [x * x for x in range(3)]\n",
    "\n",
    "print(L)"
   ]
  },
  {
   "cell_type": "code",
   "execution_count": 154,
   "metadata": {},
   "outputs": [
    {
     "data": {
      "text/plain": [
       "[1, 1, 5, 1]"
      ]
     },
     "execution_count": 154,
     "metadata": {},
     "output_type": "execute_result"
    }
   ],
   "source": [
    "c = [1] * 4\n",
    "\n",
    "c[2] = 5\n",
    "c"
   ]
  },
  {
   "cell_type": "markdown",
   "metadata": {},
   "source": [
    "### 生成器\n",
    "可以直接作用于for循环的数据类型有以下几种：\n",
    "一类是集合数据类型，如list、tuple、dict、set、str等；\n",
    "一类是generator，包括生成器和带yield的generator function；\n",
    "这些可以直接作用于for循环的对象统称为可迭代对象：Iterable；\n",
    "可以使用isinstance()判断一个对象是否是Iterable对象。\n",
    "  * 通过列表生成式，我们可以直接创建一个列表。但是，受到内存限制，列表容量肯定是有限的。而且，创建一个包含100万个元素的列表，不仅占用很大的存储空间，如果我们仅仅需要访问前面几个元素，那后面绝大多数元素占用的空间都白白浪费了。所以，如果列表元素可以按照某种算法推算出来，那我们是否可以在循环的过程中不断推算出后续的元素呢？这样就不必创建完整的list，从而节省大量的空间。在Python中，这种一边循环一边计算的惰性产生数据被称为生成器：generator。"
   ]
  },
  {
   "cell_type": "code",
   "execution_count": 11,
   "metadata": {},
   "outputs": [
    {
     "name": "stdout",
     "output_type": "stream",
     "text": [
      "[7, 8, 11, 16]\n"
     ]
    },
    {
     "data": {
      "text/plain": [
       "list"
      ]
     },
     "execution_count": 11,
     "metadata": {},
     "output_type": "execute_result"
    }
   ],
   "source": [
    "y = 7\n",
    "g = ([x * x + y for x in range(4)])\n",
    "\n",
    "print(g)\n",
    "type(g)\n",
    "# print(g[3])  $'generator' object is not subscriptable"
   ]
  },
  {
   "cell_type": "code",
   "execution_count": 10,
   "metadata": {},
   "outputs": [
    {
     "name": "stdout",
     "output_type": "stream",
     "text": [
      "7\n",
      "8\n",
      "11\n",
      "16\n"
     ]
    }
   ],
   "source": [
    "for n in g:\n",
    "    print(n)"
   ]
  },
  {
   "cell_type": "markdown",
   "metadata": {},
   "source": [
    "### 可迭代对象（Iteratables）\n",
    "  * 可以用于for循环的数据有以下：\n",
    "    * containers:list,tuple,dict,set,str\n",
    "    * generator\n",
    "    * open files, open sockets 这些可直接作用于for循环的对象统称为可迭代对象：Iterable。"
   ]
  },
  {
   "cell_type": "code",
   "execution_count": 27,
   "metadata": {},
   "outputs": [
    {
     "data": {
      "text/plain": [
       "True"
      ]
     },
     "execution_count": 27,
     "metadata": {},
     "output_type": "execute_result"
    }
   ],
   "source": [
    "from collections import Iterable\n",
    "\n",
    "isinstance([], Iterable)"
   ]
  },
  {
   "cell_type": "code",
   "execution_count": 28,
   "metadata": {},
   "outputs": [
    {
     "data": {
      "text/plain": [
       "True"
      ]
     },
     "execution_count": 28,
     "metadata": {},
     "output_type": "execute_result"
    }
   ],
   "source": [
    "isinstance({}, Iterable)"
   ]
  },
  {
   "cell_type": "code",
   "execution_count": 30,
   "metadata": {},
   "outputs": [
    {
     "data": {
      "text/plain": [
       "True"
      ]
     },
     "execution_count": 30,
     "metadata": {},
     "output_type": "execute_result"
    }
   ],
   "source": [
    "isinstance('abc', Iterable)"
   ]
  },
  {
   "cell_type": "code",
   "execution_count": 31,
   "metadata": {},
   "outputs": [
    {
     "data": {
      "text/plain": [
       "False"
      ]
     },
     "execution_count": 31,
     "metadata": {},
     "output_type": "execute_result"
    }
   ],
   "source": [
    "isinstance(100, Iterable)"
   ]
  },
  {
   "cell_type": "markdown",
   "metadata": {},
   "source": [
    "### 迭代器（Iterators）\n",
    "  * list,tuple,dict,set,str不是Iterator，而迭代器不但可以作用于for循环，还可以被next()函数不断调用并返回下一个值，直到最后抛出StopIteration错误表示无法继续返回下一个值了。可以被next()函数调用并不断返回下一个值的对象称为迭代器：Iterator。每当调用next()时：\n",
    "    * 修改当前状态以为下一个next（）调用做准备\n",
    "    * 产生结果返回给当前的调用\n",
    "\n",
    "  * Python的Iterator对象表示的是一个数据流，Iterator对象可以被next()函数调用并不断返回下一个数据，直到没有数据时抛出StopIteration错误。可以把这个数据流看做是一个有序序列，但我们却不能提前知道序列的长度，只能不断通过next()函数实现按需计算下一个数据，所以Iterator的计算是惰性的，只有在需要返回下一个数据时它才会计算。\n",
    "  * 把list、dict、str等Iterable变成Iterator可以使用iter()函数："
   ]
  },
  {
   "cell_type": "code",
   "execution_count": 30,
   "metadata": {},
   "outputs": [
    {
     "name": "stdout",
     "output_type": "stream",
     "text": [
      "1 2\n"
     ]
    }
   ],
   "source": [
    "x = [1, 2, 3]\n",
    "\n",
    "y = iter(x)\n",
    "\n",
    "print(next(y),next(y))"
   ]
  },
  {
   "cell_type": "code",
   "execution_count": 31,
   "metadata": {},
   "outputs": [
    {
     "data": {
      "text/plain": [
       "list"
      ]
     },
     "execution_count": 31,
     "metadata": {},
     "output_type": "execute_result"
    }
   ],
   "source": [
    "type(x)"
   ]
  },
  {
   "cell_type": "code",
   "execution_count": 32,
   "metadata": {},
   "outputs": [
    {
     "name": "stdout",
     "output_type": "stream",
     "text": [
      "3\n"
     ]
    }
   ],
   "source": [
    "#type(y)\n",
    "for items in y:\n",
    "    print (items)"
   ]
  },
  {
   "cell_type": "code",
   "execution_count": 193,
   "metadata": {},
   "outputs": [
    {
     "name": "stdout",
     "output_type": "stream",
     "text": [
      "[1, 2, 3]\n"
     ]
    }
   ],
   "source": [
    "x = [1, 2, 3]\n",
    "x1 =[]        # if x1 not defined? \n",
    "y = iter(x)\n",
    "\n",
    "for i in y:\n",
    "    x1.append(i)\n",
    "print (x1)"
   ]
  },
  {
   "cell_type": "markdown",
   "metadata": {},
   "source": [
    "#### yield关键字\n",
    "  * yield 的作用是用一个函数实现一个 generator，带有 yield 的函数不再是一个普通函数，Python 解释器会将其视为一个 generator，调用 fab(5) 不会执行 fab 函数，而是返回一个 iterable 对象。每次next调用，返回下一个元素"
   ]
  },
  {
   "cell_type": "code",
   "execution_count": 195,
   "metadata": {},
   "outputs": [
    {
     "name": "stdout",
     "output_type": "stream",
     "text": [
      "1 —> 1 —> 2 —> 3 —> 5 —> "
     ]
    },
    {
     "data": {
      "text/plain": [
       "'done'"
      ]
     },
     "execution_count": 195,
     "metadata": {},
     "output_type": "execute_result"
    }
   ],
   "source": [
    "def fib(max):\n",
    "\n",
    "    n, a, b = 0, 0, 1\n",
    "\n",
    "    while n < max:\n",
    "\n",
    "        print(b, end = ' —> ')\n",
    "\n",
    "        a, b = b, a + b\n",
    "\n",
    "        n = n + 1\n",
    "\n",
    "    return 'done'\n",
    "\n",
    "fib(5)"
   ]
  },
  {
   "cell_type": "markdown",
   "metadata": {},
   "source": [
    "  * 在 for 循环执行时，每次循环都会执行 fib 函数内部的代码，执行到 yield b 时，fab 函数就返回一个迭代值，下次迭代时，代码从 yield b 的下一条语句继续执行，而函数的本地变量看起来和上次中断执行前是完全一样的，于是函数继续执行，直到再次遇到 yield。"
   ]
  },
  {
   "cell_type": "code",
   "execution_count": 204,
   "metadata": {},
   "outputs": [
    {
     "data": {
      "text/plain": [
       "<generator object fib at 0x0000019DEB305138>"
      ]
     },
     "execution_count": 204,
     "metadata": {},
     "output_type": "execute_result"
    }
   ],
   "source": [
    "def fib(max = 5):\n",
    "\n",
    "    n, a, b = 0, 0, 1\n",
    "\n",
    "    while n < max:\n",
    "\n",
    "        yield b   #此时返回下一个序列元素\n",
    "\n",
    "        a, b = b, a + b\n",
    "\n",
    "        n = n + 1\n",
    "        \n",
    "f = fib()\n",
    "f"
   ]
  },
  {
   "cell_type": "code",
   "execution_count": 206,
   "metadata": {},
   "outputs": [],
   "source": [
    "for i in f:\n",
    "\n",
    "    print(i, out = ' , ')"
   ]
  },
  {
   "cell_type": "markdown",
   "metadata": {},
   "source": [
    "  * 也可以手动调用全局 的 next() 方法（因为 fab(5) 是一个 generator 对象），这样我们就可以更清楚地看到 fab 的执行流程："
   ]
  },
  {
   "cell_type": "code",
   "execution_count": 18,
   "metadata": {},
   "outputs": [
    {
     "data": {
      "text/plain": [
       "1"
      ]
     },
     "execution_count": 18,
     "metadata": {},
     "output_type": "execute_result"
    }
   ],
   "source": [
    "f = fib(5)\n",
    "\n",
    "next(f)"
   ]
  },
  {
   "cell_type": "code",
   "execution_count": 19,
   "metadata": {},
   "outputs": [
    {
     "data": {
      "text/plain": [
       "1"
      ]
     },
     "execution_count": 19,
     "metadata": {},
     "output_type": "execute_result"
    }
   ],
   "source": [
    "next(f)"
   ]
  },
  {
   "cell_type": "code",
   "execution_count": 20,
   "metadata": {},
   "outputs": [
    {
     "data": {
      "text/plain": [
       "2"
      ]
     },
     "execution_count": 20,
     "metadata": {},
     "output_type": "execute_result"
    }
   ],
   "source": [
    "next(f)"
   ]
  },
  {
   "cell_type": "markdown",
   "metadata": {},
   "source": [
    "  * 一个带有 yield 的函数就是一个 generator，它和普通函数不同，生成一个 generator 看起来像函数调用，但不会执行任何函数代码，直到对其调用 next()（在 for 循环中会自动调用 next()）才开始执行。虽然执行流程仍按函数的流程执行，但每执行到一个 yield 语句就会中断，并返回一个迭代值，下次执行时从 yield 的下一个语句继续执行。看起来就好像一个函数在正常执行的过程中被 yield 中断了数次，每次中断都会通过 yield 返回当前的迭代值。yield 的好处是显而易见的，把一个函数改写为一个 generator 就获得了迭代能力，比起用类的实例保存状态来计算下一个 next() 的值，不仅代码简洁，而且执行流程异常清晰。"
   ]
  },
  {
   "cell_type": "markdown",
   "metadata": {},
   "source": [
    "## 高阶函数\n",
    "\n",
    "### lambda表达式（small anonymous functions）\n",
    "\n",
    "  * lambda 参数:操作(参数)"
   ]
  },
  {
   "cell_type": "code",
   "execution_count": 176,
   "metadata": {},
   "outputs": [
    {
     "name": "stdout",
     "output_type": "stream",
     "text": [
      "2\n"
     ]
    },
    {
     "data": {
      "text/plain": [
       "<function __main__.<lambda>(x, y)>"
      ]
     },
     "execution_count": 176,
     "metadata": {},
     "output_type": "execute_result"
    }
   ],
   "source": [
    "f = lambda x, y : x + y\n",
    "\n",
    "print(f(1,1))\n",
    "\n",
    "f         #变量f引用了一个匿名函数"
   ]
  },
  {
   "cell_type": "markdown",
   "metadata": {},
   "source": [
    "### map( )\n",
    "  * map()函数接收两个参数，一个是函数，一个是Iterable，map将传入的函数依次作用到序列的每个元素，并把结果作为新的Iterator返回。"
   ]
  },
  {
   "cell_type": "code",
   "execution_count": 28,
   "metadata": {},
   "outputs": [
    {
     "data": {
      "text/plain": [
       "[5, 10, 17, 26, 37, 50, 65, 82]"
      ]
     },
     "execution_count": 28,
     "metadata": {},
     "output_type": "execute_result"
    }
   ],
   "source": [
    "def f(x):\n",
    "\n",
    "    return x * x\n",
    "\n",
    "# r = map(lambda x :x * x, [1, 2, 3, 4, 5, 6, 7, 8, 9])\n",
    "r = map(lambda x: f(x)+ 1, [1, 2, 3, 4, 5, 6, 7, 8, 9])\n",
    "next(r) * 4\n",
    "list(r)"
   ]
  },
  {
   "cell_type": "code",
   "execution_count": 22,
   "metadata": {},
   "outputs": [
    {
     "name": "stdout",
     "output_type": "stream",
     "text": [
      "[11.2, 10, 'number']\n",
      "['float', 'int', 'str']\n"
     ]
    }
   ],
   "source": [
    "a = [10, 'number', 11.2]\n",
    "a.sort(key=lambda x: x.__class__.__name__)\n",
    "b = list(map(lambda x:x.__class__.__name__,a))\n",
    "print(a)\n",
    "print(b)"
   ]
  },
  {
   "cell_type": "code",
   "execution_count": 39,
   "metadata": {},
   "outputs": [
    {
     "data": {
      "text/plain": [
       "['1', '2', '3', '4', '5', '6', '7', '8', '9']"
      ]
     },
     "execution_count": 39,
     "metadata": {},
     "output_type": "execute_result"
    }
   ],
   "source": [
    "list(map(str, [1, 2, 3, 4, 5, 6, 7, 8, 9]))"
   ]
  },
  {
   "cell_type": "code",
   "execution_count": 178,
   "metadata": {},
   "outputs": [
    {
     "data": {
      "text/plain": [
       "[18, 14, 14, 14]"
      ]
     },
     "execution_count": 178,
     "metadata": {},
     "output_type": "execute_result"
    }
   ],
   "source": [
    "a = [1,2,3,4]\n",
    "\n",
    "b = [17,12,11,10]\n",
    "\n",
    "c = [-1,-4,5,9]\n",
    "\n",
    "list(map(lambda x,y:x+y, a,b))"
   ]
  },
  {
   "cell_type": "markdown",
   "metadata": {},
   "source": [
    "### reduce( )\n",
    "  * reduce把一个函数作用在一个序列[x1, x2, x3, ...]上，这个函数必须接收两个参数，reduce把结果继续和序列的下一个元素做累积计算\n",
    "  * reduce(f, [x1, x2, x3, x4]) = f(f(f(x1, x2), x3), x4)"
   ]
  },
  {
   "cell_type": "code",
   "execution_count": 181,
   "metadata": {},
   "outputs": [
    {
     "data": {
      "text/plain": [
       "13579"
      ]
     },
     "execution_count": 181,
     "metadata": {},
     "output_type": "execute_result"
    }
   ],
   "source": [
    "from functools import reduce\n",
    "\n",
    "def fn(x, y):\n",
    "\n",
    "    return x * 10 + abs(y)\n",
    "\n",
    "reduce(fn, [1, 3, 5, -7, 9])"
   ]
  },
  {
   "cell_type": "markdown",
   "metadata": {},
   "source": [
    "### filter()\n",
    "  * 过滤序列，filter()接收一个函数和一个序列。把传入的函数依次作用于每个元素，然后根据返回值是True还是False决定保留还是丢弃该元素。"
   ]
  },
  {
   "cell_type": "code",
   "execution_count": 43,
   "metadata": {},
   "outputs": [
    {
     "data": {
      "text/plain": [
       "[1, 5, 9, 15]"
      ]
     },
     "execution_count": 43,
     "metadata": {},
     "output_type": "execute_result"
    }
   ],
   "source": [
    "def is_odd(n):\n",
    "\n",
    "    return n % 2 == 1\n",
    "    \n",
    "list(filter(is_odd, [1, 2, 4, 5, 6, 9, 10, 15]))"
   ]
  },
  {
   "cell_type": "code",
   "execution_count": 77,
   "metadata": {},
   "outputs": [
    {
     "data": {
      "text/plain": [
       "[1, 1, 3, 5, 13, 21, 55]"
      ]
     },
     "execution_count": 77,
     "metadata": {},
     "output_type": "execute_result"
    }
   ],
   "source": [
    "fibonacci = [0,1,1,2,3,5,8,13,21,34,55]\n",
    "\n",
    "odd_numbers = list(filter(lambda x: x % 2, fibonacci))\n",
    "\n",
    "odd_numbers"
   ]
  },
  {
   "cell_type": "markdown",
   "metadata": {},
   "source": [
    "### sorted "
   ]
  },
  {
   "cell_type": "code",
   "execution_count": 44,
   "metadata": {},
   "outputs": [
    {
     "data": {
      "text/plain": [
       "[1, 2, 3, 4, 5]"
      ]
     },
     "execution_count": 44,
     "metadata": {},
     "output_type": "execute_result"
    }
   ],
   "source": [
    "ls = [5, 2, 3, 1, 4]\n",
    "\n",
    "new_ls = sorted(ls)\n",
    "\n",
    "new_ls"
   ]
  },
  {
   "cell_type": "code",
   "execution_count": 45,
   "metadata": {},
   "outputs": [
    {
     "data": {
      "text/plain": [
       "[5, 2, 3, 1, 4]"
      ]
     },
     "execution_count": 45,
     "metadata": {},
     "output_type": "execute_result"
    }
   ],
   "source": [
    "ls"
   ]
  },
  {
   "cell_type": "code",
   "execution_count": 47,
   "metadata": {},
   "outputs": [
    {
     "data": {
      "text/plain": [
       "[2, 3, 4, 5, 8]"
      ]
     },
     "execution_count": 47,
     "metadata": {},
     "output_type": "execute_result"
    }
   ],
   "source": [
    "sorted({8: 'D', 2: 'B', 3: 'B', 4: 'E', 5: 'A'})"
   ]
  },
  {
   "cell_type": "markdown",
   "metadata": {},
   "source": [
    "  * sorted()函数也是一个高阶函数，它还可以接收一个key函数来实现自定义的排序，key指定的函数将作用于list的每一个元素上，并根据key函数返回的结果进行排序。"
   ]
  },
  {
   "cell_type": "code",
   "execution_count": 207,
   "metadata": {},
   "outputs": [
    {
     "name": "stdout",
     "output_type": "stream",
     "text": [
      "[-21, -12, 5, 9, 36]\n"
     ]
    },
    {
     "data": {
      "text/plain": [
       "[5, 9, -12, -21, 36]"
      ]
     },
     "execution_count": 207,
     "metadata": {},
     "output_type": "execute_result"
    }
   ],
   "source": [
    "print(sorted([36, 5, -12, 9, -21]))\n",
    "sorted([36, 5, -12, 9, -21], key=abs)"
   ]
  },
  {
   "cell_type": "code",
   "execution_count": 49,
   "metadata": {},
   "outputs": [
    {
     "data": {
      "text/plain": [
       "['Credit', 'Zoo', 'about', 'bob']"
      ]
     },
     "execution_count": 49,
     "metadata": {},
     "output_type": "execute_result"
    }
   ],
   "source": [
    "print(sorted(['bob', 'about', 'Zoo', 'Credit']))\n",
    "sorted(['bob', 'about', 'Zoo', 'Credit'], key=str.lower)"
   ]
  },
  {
   "cell_type": "markdown",
   "metadata": {},
   "source": [
    "循环与 `enumerate（枚举）` 函数:"
   ]
  },
  {
   "cell_type": "code",
   "execution_count": 1,
   "metadata": {
    "scrolled": false
   },
   "outputs": [
    {
     "name": "stdout",
     "output_type": "stream",
     "text": [
      "0 cat\n",
      "1 dog\n",
      "2 monkey\n"
     ]
    }
   ],
   "source": [
    "animals = ['cat', 'dog', 'monkey']\n",
    "for idx, animal in enumerate(animals):    # 同时取得索引与key值\n",
    "    print( idx,animals[idx])"
   ]
  },
  {
   "cell_type": "markdown",
   "metadata": {},
   "source": [
    "#### 读入一行英文单词，单词之间空格分隔；要求将所有单词倒序输出"
   ]
  },
  {
   "cell_type": "code",
   "execution_count": 1,
   "metadata": {},
   "outputs": [
    {
     "name": "stdout",
     "output_type": "stream",
     "text": [
      "hello world today ！\n",
      "！ today world hello "
     ]
    }
   ],
   "source": [
    "s = input().strip().split()  # 去前导空格，拆分成单词list \n",
    "for item in reversed(s):     # 反转list s，打印其中元素\n",
    "    print(item, end=' ')     # 用空格替换回车 "
   ]
  },
  {
   "cell_type": "code",
   "execution_count": 5,
   "metadata": {},
   "outputs": [
    {
     "name": "stdout",
     "output_type": "stream",
     "text": [
      "for i in range(len(words))\n",
      "range(len(words)) in i for \n"
     ]
    }
   ],
   "source": [
    "words = input().split()\n",
    "ans = ''\n",
    "for i in range(len(words)):   # 使得i是整数序列\n",
    "    ans += words[-(i + 1)]    # 倒序，拼接成一个串\n",
    "    ans += ' '                # 最后会多一个空格   \n",
    "print (ans)"
   ]
  },
  {
   "cell_type": "code",
   "execution_count": 6,
   "metadata": {
    "scrolled": true
   },
   "outputs": [
    {
     "name": "stdout",
     "output_type": "stream",
     "text": [
      "print(' '.join(reversed(input().split())))\n",
      "'.join(reversed(input().split()))) print('\n"
     ]
    }
   ],
   "source": [
    "print(' '.join(reversed(input().split())))"
   ]
  },
  {
   "cell_type": "code",
   "execution_count": 9,
   "metadata": {},
   "outputs": [
    {
     "name": "stdout",
     "output_type": "stream",
     "text": [
      "hu ju jiu 12\n",
      "['12', 'jiu', 'ju', 'hu']\n"
     ]
    }
   ],
   "source": [
    "print( *input().split()[::-1] ) # 按倒序遍历切片所有输入单词元素, 实参：* 序列解包"
   ]
  },
  {
   "cell_type": "code",
   "execution_count": 2,
   "metadata": {
    "scrolled": true
   },
   "outputs": [
    {
     "name": "stdout",
     "output_type": "stream",
     "text": [
      "{0, 1, 2, 3, 4, 5, 6}\n"
     ]
    }
   ],
   "source": [
    "#from math import sqrt                      \n",
    "#print( {int(sqrt(x)) for x in range(40)})  # 集合 不保留重复元素\n",
    "\n",
    "import math\n",
    "print( {int(math.sqrt(x)) for x in range(40)})  # 集合 不保留重复元素"
   ]
  },
  {
   "cell_type": "markdown",
   "metadata": {},
   "source": [
    "<b>zip()</b> 函数用于将可迭代的对象作为参数，将对象中对应的元素打包成一个个元组，然后返回由这些元组组成的列表。"
   ]
  },
  {
   "cell_type": "code",
   "execution_count": 3,
   "metadata": {},
   "outputs": [
    {
     "name": "stdout",
     "output_type": "stream",
     "text": [
      "[['a', 'b'], ['b', 'c'], ['c', 'd']]\n"
     ]
    }
   ],
   "source": [
    "str = [[i,j] for i,j in zip('abc','bcd')]\n",
    "print (str)"
   ]
  },
  {
   "cell_type": "markdown",
   "metadata": {},
   "source": [
    "<b>join()</b> 方法用于将序列中的元素以指定的字符连接生成一个新的字符串。split用来分割字符串\n",
    "input()函数用来读入一个字符串"
   ]
  },
  {
   "cell_type": "code",
   "execution_count": 2,
   "metadata": {},
   "outputs": [
    {
     "name": "stdout",
     "output_type": "stream",
     "text": [
      "2.3 4 1.101\n",
      "2.3 4.0 1.101\n"
     ]
    }
   ],
   "source": [
    "a,b,c,*_ = map(float, input().split(' '))  #可以读取用空格分开的前三个浮点数\n",
    "print(a,b,c)"
   ]
  },
  {
   "cell_type": "code",
   "execution_count": 6,
   "metadata": {
    "scrolled": true
   },
   "outputs": [
    {
     "name": "stdout",
     "output_type": "stream",
     "text": [
      "hello world！\n",
      "hell o w ld\n",
      "11110000011\n"
     ]
    }
   ],
   "source": [
    "print( ''.join([['0','1'][i==j] for i,j in zip(input(),input())])) # 布尔量做下标"
   ]
  },
  {
   "cell_type": "markdown",
   "metadata": {},
   "source": [
    "列表实现快速排序算法"
   ]
  },
  {
   "cell_type": "code",
   "execution_count": null,
   "metadata": {},
   "outputs": [],
   "source": [
    "def quicksort(arr):\n",
    "    if len(arr) <= 1:     #递归返回条件\n",
    "        return arr\n",
    "    pivot = arr[len(arr) // 2]\n",
    "    left = [x for x in arr if x < pivot]     #生成小于pivot的左列表\n",
    "    middle = [x for x in arr if x == pivot]  #middle列表，支持有重复值情况\n",
    "    right = [x for x in arr if x > pivot]    #生成大于pivot的右列表\n",
    "    return quicksort(left) + middle + quicksort(right)  #返回一个新的列表对象\n",
    "\n",
    "print (quicksort([3,6,8,10,1,2,1]))"
   ]
  },
  {
   "cell_type": "code",
   "execution_count": 6,
   "metadata": {},
   "outputs": [
    {
     "name": "stdout",
     "output_type": "stream",
     "text": [
      "2\n"
     ]
    },
    {
     "data": {
      "text/plain": [
       "<function __main__.<lambda>(x, y)>"
      ]
     },
     "execution_count": 6,
     "metadata": {},
     "output_type": "execute_result"
    }
   ],
   "source": [
    "f = lambda x, y : x + y\n",
    "\n",
    "print(f(1,1))\n",
    "\n",
    "f         #变量f引用了一个匿名函数"
   ]
  },
  {
   "cell_type": "code",
   "execution_count": 7,
   "metadata": {},
   "outputs": [
    {
     "name": "stdout",
     "output_type": "stream",
     "text": [
      "[1, 1, 2, 3, 6, 8, 10]\n"
     ]
    }
   ],
   "source": [
    "def qsort(a):\n",
    "    if len(a) <= 1:\n",
    "        return a\n",
    "    else:\n",
    "        return  qsort(list(filter(lambda x: x <= a[0], a[1:]))) + [a[0]] + qsort(list(filter(lambda x: x > a[0], a[1:])))\n",
    "print (qsort([3,6,8,10,1,2,1]))"
   ]
  },
  {
   "cell_type": "code",
   "execution_count": 51,
   "metadata": {
    "scrolled": false
   },
   "outputs": [
    {
     "data": {
      "text/plain": [
       "['Zoo', 'Credit', 'bob', 'about']"
      ]
     },
     "execution_count": 51,
     "metadata": {},
     "output_type": "execute_result"
    }
   ],
   "source": [
    "sorted(['bob', 'about', 'Zoo', 'Credit'], key=str.lower, reverse=True)"
   ]
  }
 ],
 "metadata": {
  "kernelspec": {
   "display_name": "Python 3",
   "language": "python",
   "name": "python3"
  },
  "language_info": {
   "codemirror_mode": {
    "name": "ipython",
    "version": 3
   },
   "file_extension": ".py",
   "mimetype": "text/x-python",
   "name": "python",
   "nbconvert_exporter": "python",
   "pygments_lexer": "ipython3",
   "version": "3.7.2"
  }
 },
 "nbformat": 4,
 "nbformat_minor": 2
}
